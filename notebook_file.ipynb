{
  "cells": [
    {
      "cell_type": "markdown",
      "source": [
        "# Task : Indian Sign Language Recognition(gesture recognition) and Conversion to speech"
      ],
      "metadata": {
        "id": "bXCEiw_6Q5Y-"
      },
      "id": "bXCEiw_6Q5Y-"
    },
    {
      "cell_type": "markdown",
      "source": [
        "## Objective:\n",
        "Develop instructional materials for students to learn machine learning using\n",
        "Jupyter Notebook and other ML tools. The aim is to accurately recognize\n",
        "ISL(Indian Sign Language Recognition) gestures, convert them into\n",
        "corresponding text, and then convert the text into speech."
      ],
      "metadata": {
        "id": "agQMLqQ8RfXX"
      },
      "id": "agQMLqQ8RfXX"
    },
    {
      "cell_type": "markdown",
      "source": [
        "## Tools and Technologies:\n",
        "  * **Jupyter Notebook:** For data preprocessing, model development, and\n",
        "training.\n",
        "\n",
        "  * **Programming Language:** Python - Widely used for its simplicity,\n",
        "extensive libraries, and ecosystem support."
      ],
      "metadata": {
        "id": "o_cBLhWfRqXs"
      },
      "id": "o_cBLhWfRqXs"
    },
    {
      "cell_type": "markdown",
      "source": [
        "## Starting the Exciting Journey for this project by following these"
      ],
      "metadata": {
        "id": "syrhOm6nMUPo"
      },
      "id": "syrhOm6nMUPo"
    },
    {
      "cell_type": "markdown",
      "source": [
        "To make this interesting project we will be following some steps and sub-steps so that our project can be made without any errors. This is the most useful project which we are going to make, which deals with the real life problem of deaf and dumb people.\n",
        "\n",
        "So let us start this exciting journey with the following steps:\n",
        "* **Step1:** Making our system ready for this project, for that you need to download some libraries of python using `pip` command.\n",
        "  * OpenCV ----> `pip install opencv-python` ----> open-source library for computer vision, machine learning, and image processing.\n",
        "  * PIL ----> `pip install pillow` ----> Pillow provides the ImageDraw module that provides simple 2D graphics for Image objects.\n",
        "  * tensorflow ----> `pip install tensorflow` ----> used to build and train deep learning models as it facilitates the creation of computational graphs and efficient execution on various hardware platforms\n",
        "  * sklearn ----> `pip install scikit-learn` used here for spliting data into test and train.\n",
        "  * pyttsx3 ----> `pip install pyttsx3` used to convert text to speech.\n",
        "\n",
        "  Do not worry you are not supposed to copy these commends and install one by one in your terminal because you will see these commands installed at the time of there use in this notebook file only, so chill....\n",
        "* **Step2:** Making Hardware ready for this project,for that we will be following some sub steps which are as followed:\n",
        "  * Getting the Arduino code\n",
        "  * Interfacing the Hardware\n",
        "  * Installing the code to the Hardware\n",
        "  * Getting the esp32_url for this project\n",
        "* **Step3:** Now after sucessfully installing these libraries of python, you need to import these libraries for this project.\n",
        "* **Step4:** Data collection and processing, this very steps have some sub steps which is needed to be followed:\n",
        "  * **Data Collection:** Capture image form esp32-cam and save them with there class name(in our project it is A to Z gestures).\n",
        "  * **Data storing:** Now after creating your data with there class name you need to store these data into csv file, in our case we are taking the image data of any pixel, resizing it to 40x40, spliting the data into test and train and after this we will be storing these data in to csv files named as `train.csv` and `test.csv`.\n",
        "  * **Data Loading:** We will be loading these csv files in our code.\n",
        "  * **Data Processing:** Now its time to process the data for this project which will be helpful for us to develop the model and test it for the accuracy.\n",
        "  * **Debugging:** Debugging the data is most essential before model development as it debugs our process and alearts us when there is any error.\n",
        "  * **Previewing Data:** After some more data processing now we will be previewing the data in grayscale as this gives us the correct image data for developing our model.\n",
        "* **Step5:** Developing our ML model.\n",
        "* **step6:** Deploying this ML model using esp32-cam, for this we will be following some sub steps which are as follows:\n",
        "  * some necessary system commands\n",
        "  * Import some libraries\n",
        "  * Load ML model\n",
        "  * Connect to esp32-cam\n",
        "  * Prediction\n",
        "  * Converting the predicted value to text\n",
        "  * Converting the text to speech\n",
        "\n",
        "and yes if you follow these steps, you will be getting your project ready."
      ],
      "metadata": {
        "id": "kVrsKk_fSBF1"
      },
      "id": "kVrsKk_fSBF1"
    },
    {
      "cell_type": "markdown",
      "source": [
        "## **Step 1:** Getting system ready"
      ],
      "metadata": {
        "id": "hmTvNRyA2s2L"
      },
      "id": "hmTvNRyA2s2L"
    },
    {
      "cell_type": "code",
      "source": [
        "!pip install opencv-python"
      ],
      "metadata": {
        "id": "6F6xHoAs23yD",
        "colab": {
          "base_uri": "https://localhost:8080/"
        },
        "outputId": "d3d42533-e033-4d60-bda6-fd1dba7a1c44"
      },
      "id": "6F6xHoAs23yD",
      "execution_count": 1,
      "outputs": [
        {
          "output_type": "stream",
          "name": "stdout",
          "text": [
            "Requirement already satisfied: opencv-python in /usr/local/lib/python3.10/dist-packages (4.8.0.76)\n",
            "Requirement already satisfied: numpy>=1.21.2 in /usr/local/lib/python3.10/dist-packages (from opencv-python) (1.25.2)\n"
          ]
        }
      ]
    },
    {
      "cell_type": "code",
      "source": [
        "!pip install pillow"
      ],
      "metadata": {
        "id": "KrVZnHOS2-w5",
        "colab": {
          "base_uri": "https://localhost:8080/"
        },
        "outputId": "5e70512e-4c60-4276-cff5-60688216b155"
      },
      "id": "KrVZnHOS2-w5",
      "execution_count": 2,
      "outputs": [
        {
          "output_type": "stream",
          "name": "stdout",
          "text": [
            "Requirement already satisfied: pillow in /usr/local/lib/python3.10/dist-packages (9.4.0)\n"
          ]
        }
      ]
    },
    {
      "cell_type": "code",
      "source": [
        "!pip install tensorflow"
      ],
      "metadata": {
        "id": "KKA6DNlI2-tW",
        "colab": {
          "base_uri": "https://localhost:8080/"
        },
        "outputId": "ca87e82b-3a93-4fa0-f65e-86fc1171471f"
      },
      "id": "KKA6DNlI2-tW",
      "execution_count": 3,
      "outputs": [
        {
          "output_type": "stream",
          "name": "stdout",
          "text": [
            "Requirement already satisfied: tensorflow in /usr/local/lib/python3.10/dist-packages (2.15.0)\n",
            "Requirement already satisfied: absl-py>=1.0.0 in /usr/local/lib/python3.10/dist-packages (from tensorflow) (1.4.0)\n",
            "Requirement already satisfied: astunparse>=1.6.0 in /usr/local/lib/python3.10/dist-packages (from tensorflow) (1.6.3)\n",
            "Requirement already satisfied: flatbuffers>=23.5.26 in /usr/local/lib/python3.10/dist-packages (from tensorflow) (24.3.25)\n",
            "Requirement already satisfied: gast!=0.5.0,!=0.5.1,!=0.5.2,>=0.2.1 in /usr/local/lib/python3.10/dist-packages (from tensorflow) (0.6.0)\n",
            "Requirement already satisfied: google-pasta>=0.1.1 in /usr/local/lib/python3.10/dist-packages (from tensorflow) (0.2.0)\n",
            "Requirement already satisfied: h5py>=2.9.0 in /usr/local/lib/python3.10/dist-packages (from tensorflow) (3.9.0)\n",
            "Requirement already satisfied: libclang>=13.0.0 in /usr/local/lib/python3.10/dist-packages (from tensorflow) (18.1.1)\n",
            "Requirement already satisfied: ml-dtypes~=0.2.0 in /usr/local/lib/python3.10/dist-packages (from tensorflow) (0.2.0)\n",
            "Requirement already satisfied: numpy<2.0.0,>=1.23.5 in /usr/local/lib/python3.10/dist-packages (from tensorflow) (1.25.2)\n",
            "Requirement already satisfied: opt-einsum>=2.3.2 in /usr/local/lib/python3.10/dist-packages (from tensorflow) (3.3.0)\n",
            "Requirement already satisfied: packaging in /usr/local/lib/python3.10/dist-packages (from tensorflow) (24.1)\n",
            "Requirement already satisfied: protobuf!=4.21.0,!=4.21.1,!=4.21.2,!=4.21.3,!=4.21.4,!=4.21.5,<5.0.0dev,>=3.20.3 in /usr/local/lib/python3.10/dist-packages (from tensorflow) (3.20.3)\n",
            "Requirement already satisfied: setuptools in /usr/local/lib/python3.10/dist-packages (from tensorflow) (67.7.2)\n",
            "Requirement already satisfied: six>=1.12.0 in /usr/local/lib/python3.10/dist-packages (from tensorflow) (1.16.0)\n",
            "Requirement already satisfied: termcolor>=1.1.0 in /usr/local/lib/python3.10/dist-packages (from tensorflow) (2.4.0)\n",
            "Requirement already satisfied: typing-extensions>=3.6.6 in /usr/local/lib/python3.10/dist-packages (from tensorflow) (4.12.2)\n",
            "Requirement already satisfied: wrapt<1.15,>=1.11.0 in /usr/local/lib/python3.10/dist-packages (from tensorflow) (1.14.1)\n",
            "Requirement already satisfied: tensorflow-io-gcs-filesystem>=0.23.1 in /usr/local/lib/python3.10/dist-packages (from tensorflow) (0.37.1)\n",
            "Requirement already satisfied: grpcio<2.0,>=1.24.3 in /usr/local/lib/python3.10/dist-packages (from tensorflow) (1.64.1)\n",
            "Requirement already satisfied: tensorboard<2.16,>=2.15 in /usr/local/lib/python3.10/dist-packages (from tensorflow) (2.15.2)\n",
            "Requirement already satisfied: tensorflow-estimator<2.16,>=2.15.0 in /usr/local/lib/python3.10/dist-packages (from tensorflow) (2.15.0)\n",
            "Requirement already satisfied: keras<2.16,>=2.15.0 in /usr/local/lib/python3.10/dist-packages (from tensorflow) (2.15.0)\n",
            "Requirement already satisfied: wheel<1.0,>=0.23.0 in /usr/local/lib/python3.10/dist-packages (from astunparse>=1.6.0->tensorflow) (0.43.0)\n",
            "Requirement already satisfied: google-auth<3,>=1.6.3 in /usr/local/lib/python3.10/dist-packages (from tensorboard<2.16,>=2.15->tensorflow) (2.27.0)\n",
            "Requirement already satisfied: google-auth-oauthlib<2,>=0.5 in /usr/local/lib/python3.10/dist-packages (from tensorboard<2.16,>=2.15->tensorflow) (1.2.1)\n",
            "Requirement already satisfied: markdown>=2.6.8 in /usr/local/lib/python3.10/dist-packages (from tensorboard<2.16,>=2.15->tensorflow) (3.6)\n",
            "Requirement already satisfied: requests<3,>=2.21.0 in /usr/local/lib/python3.10/dist-packages (from tensorboard<2.16,>=2.15->tensorflow) (2.31.0)\n",
            "Requirement already satisfied: tensorboard-data-server<0.8.0,>=0.7.0 in /usr/local/lib/python3.10/dist-packages (from tensorboard<2.16,>=2.15->tensorflow) (0.7.2)\n",
            "Requirement already satisfied: werkzeug>=1.0.1 in /usr/local/lib/python3.10/dist-packages (from tensorboard<2.16,>=2.15->tensorflow) (3.0.3)\n",
            "Requirement already satisfied: cachetools<6.0,>=2.0.0 in /usr/local/lib/python3.10/dist-packages (from google-auth<3,>=1.6.3->tensorboard<2.16,>=2.15->tensorflow) (5.4.0)\n",
            "Requirement already satisfied: pyasn1-modules>=0.2.1 in /usr/local/lib/python3.10/dist-packages (from google-auth<3,>=1.6.3->tensorboard<2.16,>=2.15->tensorflow) (0.4.0)\n",
            "Requirement already satisfied: rsa<5,>=3.1.4 in /usr/local/lib/python3.10/dist-packages (from google-auth<3,>=1.6.3->tensorboard<2.16,>=2.15->tensorflow) (4.9)\n",
            "Requirement already satisfied: requests-oauthlib>=0.7.0 in /usr/local/lib/python3.10/dist-packages (from google-auth-oauthlib<2,>=0.5->tensorboard<2.16,>=2.15->tensorflow) (1.3.1)\n",
            "Requirement already satisfied: charset-normalizer<4,>=2 in /usr/local/lib/python3.10/dist-packages (from requests<3,>=2.21.0->tensorboard<2.16,>=2.15->tensorflow) (3.3.2)\n",
            "Requirement already satisfied: idna<4,>=2.5 in /usr/local/lib/python3.10/dist-packages (from requests<3,>=2.21.0->tensorboard<2.16,>=2.15->tensorflow) (3.7)\n",
            "Requirement already satisfied: urllib3<3,>=1.21.1 in /usr/local/lib/python3.10/dist-packages (from requests<3,>=2.21.0->tensorboard<2.16,>=2.15->tensorflow) (2.0.7)\n",
            "Requirement already satisfied: certifi>=2017.4.17 in /usr/local/lib/python3.10/dist-packages (from requests<3,>=2.21.0->tensorboard<2.16,>=2.15->tensorflow) (2024.7.4)\n",
            "Requirement already satisfied: MarkupSafe>=2.1.1 in /usr/local/lib/python3.10/dist-packages (from werkzeug>=1.0.1->tensorboard<2.16,>=2.15->tensorflow) (2.1.5)\n",
            "Requirement already satisfied: pyasn1<0.7.0,>=0.4.6 in /usr/local/lib/python3.10/dist-packages (from pyasn1-modules>=0.2.1->google-auth<3,>=1.6.3->tensorboard<2.16,>=2.15->tensorflow) (0.6.0)\n",
            "Requirement already satisfied: oauthlib>=3.0.0 in /usr/local/lib/python3.10/dist-packages (from requests-oauthlib>=0.7.0->google-auth-oauthlib<2,>=0.5->tensorboard<2.16,>=2.15->tensorflow) (3.2.2)\n"
          ]
        }
      ]
    },
    {
      "cell_type": "code",
      "source": [
        "!pip install scikit-learn"
      ],
      "metadata": {
        "id": "cm0oqRn_2-n9",
        "colab": {
          "base_uri": "https://localhost:8080/"
        },
        "outputId": "c866a67b-ad81-49f4-9b16-75dbc2a47faa"
      },
      "id": "cm0oqRn_2-n9",
      "execution_count": 4,
      "outputs": [
        {
          "output_type": "stream",
          "name": "stdout",
          "text": [
            "Requirement already satisfied: scikit-learn in /usr/local/lib/python3.10/dist-packages (1.2.2)\n",
            "Requirement already satisfied: numpy>=1.17.3 in /usr/local/lib/python3.10/dist-packages (from scikit-learn) (1.25.2)\n",
            "Requirement already satisfied: scipy>=1.3.2 in /usr/local/lib/python3.10/dist-packages (from scikit-learn) (1.11.4)\n",
            "Requirement already satisfied: joblib>=1.1.1 in /usr/local/lib/python3.10/dist-packages (from scikit-learn) (1.4.2)\n",
            "Requirement already satisfied: threadpoolctl>=2.0.0 in /usr/local/lib/python3.10/dist-packages (from scikit-learn) (3.5.0)\n"
          ]
        }
      ]
    },
    {
      "cell_type": "code",
      "source": [
        "!pip install pyttsx3"
      ],
      "metadata": {
        "id": "KKM_5JMm2-lo",
        "colab": {
          "base_uri": "https://localhost:8080/"
        },
        "outputId": "93dc064d-da7e-4874-9fe0-fe061953108d"
      },
      "id": "KKM_5JMm2-lo",
      "execution_count": 5,
      "outputs": [
        {
          "output_type": "stream",
          "name": "stdout",
          "text": [
            "Collecting pyttsx3\n",
            "  Downloading pyttsx3-2.90-py3-none-any.whl (39 kB)\n",
            "Installing collected packages: pyttsx3\n",
            "Successfully installed pyttsx3-2.90\n"
          ]
        }
      ]
    },
    {
      "cell_type": "code",
      "source": [
        "!pip install matplotlib"
      ],
      "metadata": {
        "colab": {
          "base_uri": "https://localhost:8080/"
        },
        "id": "_VDtKp6FTMQL",
        "outputId": "1c873f6b-bcd6-477a-e432-85a1a1524a13"
      },
      "id": "_VDtKp6FTMQL",
      "execution_count": 6,
      "outputs": [
        {
          "output_type": "stream",
          "name": "stdout",
          "text": [
            "Requirement already satisfied: matplotlib in /usr/local/lib/python3.10/dist-packages (3.7.1)\n",
            "Requirement already satisfied: contourpy>=1.0.1 in /usr/local/lib/python3.10/dist-packages (from matplotlib) (1.2.1)\n",
            "Requirement already satisfied: cycler>=0.10 in /usr/local/lib/python3.10/dist-packages (from matplotlib) (0.12.1)\n",
            "Requirement already satisfied: fonttools>=4.22.0 in /usr/local/lib/python3.10/dist-packages (from matplotlib) (4.53.1)\n",
            "Requirement already satisfied: kiwisolver>=1.0.1 in /usr/local/lib/python3.10/dist-packages (from matplotlib) (1.4.5)\n",
            "Requirement already satisfied: numpy>=1.20 in /usr/local/lib/python3.10/dist-packages (from matplotlib) (1.25.2)\n",
            "Requirement already satisfied: packaging>=20.0 in /usr/local/lib/python3.10/dist-packages (from matplotlib) (24.1)\n",
            "Requirement already satisfied: pillow>=6.2.0 in /usr/local/lib/python3.10/dist-packages (from matplotlib) (9.4.0)\n",
            "Requirement already satisfied: pyparsing>=2.3.1 in /usr/local/lib/python3.10/dist-packages (from matplotlib) (3.1.2)\n",
            "Requirement already satisfied: python-dateutil>=2.7 in /usr/local/lib/python3.10/dist-packages (from matplotlib) (2.8.2)\n",
            "Requirement already satisfied: six>=1.5 in /usr/local/lib/python3.10/dist-packages (from python-dateutil>=2.7->matplotlib) (1.16.0)\n"
          ]
        }
      ]
    },
    {
      "cell_type": "code",
      "source": [
        "!pip install seaborn"
      ],
      "metadata": {
        "colab": {
          "base_uri": "https://localhost:8080/"
        },
        "id": "3VeR5EahTMGz",
        "outputId": "86899791-fdb6-4d43-9ec7-d8748311eaef"
      },
      "id": "3VeR5EahTMGz",
      "execution_count": 7,
      "outputs": [
        {
          "output_type": "stream",
          "name": "stdout",
          "text": [
            "Requirement already satisfied: seaborn in /usr/local/lib/python3.10/dist-packages (0.13.1)\n",
            "Requirement already satisfied: numpy!=1.24.0,>=1.20 in /usr/local/lib/python3.10/dist-packages (from seaborn) (1.25.2)\n",
            "Requirement already satisfied: pandas>=1.2 in /usr/local/lib/python3.10/dist-packages (from seaborn) (2.0.3)\n",
            "Requirement already satisfied: matplotlib!=3.6.1,>=3.4 in /usr/local/lib/python3.10/dist-packages (from seaborn) (3.7.1)\n",
            "Requirement already satisfied: contourpy>=1.0.1 in /usr/local/lib/python3.10/dist-packages (from matplotlib!=3.6.1,>=3.4->seaborn) (1.2.1)\n",
            "Requirement already satisfied: cycler>=0.10 in /usr/local/lib/python3.10/dist-packages (from matplotlib!=3.6.1,>=3.4->seaborn) (0.12.1)\n",
            "Requirement already satisfied: fonttools>=4.22.0 in /usr/local/lib/python3.10/dist-packages (from matplotlib!=3.6.1,>=3.4->seaborn) (4.53.1)\n",
            "Requirement already satisfied: kiwisolver>=1.0.1 in /usr/local/lib/python3.10/dist-packages (from matplotlib!=3.6.1,>=3.4->seaborn) (1.4.5)\n",
            "Requirement already satisfied: packaging>=20.0 in /usr/local/lib/python3.10/dist-packages (from matplotlib!=3.6.1,>=3.4->seaborn) (24.1)\n",
            "Requirement already satisfied: pillow>=6.2.0 in /usr/local/lib/python3.10/dist-packages (from matplotlib!=3.6.1,>=3.4->seaborn) (9.4.0)\n",
            "Requirement already satisfied: pyparsing>=2.3.1 in /usr/local/lib/python3.10/dist-packages (from matplotlib!=3.6.1,>=3.4->seaborn) (3.1.2)\n",
            "Requirement already satisfied: python-dateutil>=2.7 in /usr/local/lib/python3.10/dist-packages (from matplotlib!=3.6.1,>=3.4->seaborn) (2.8.2)\n",
            "Requirement already satisfied: pytz>=2020.1 in /usr/local/lib/python3.10/dist-packages (from pandas>=1.2->seaborn) (2023.4)\n",
            "Requirement already satisfied: tzdata>=2022.1 in /usr/local/lib/python3.10/dist-packages (from pandas>=1.2->seaborn) (2024.1)\n",
            "Requirement already satisfied: six>=1.5 in /usr/local/lib/python3.10/dist-packages (from python-dateutil>=2.7->matplotlib!=3.6.1,>=3.4->seaborn) (1.16.0)\n"
          ]
        }
      ]
    },
    {
      "cell_type": "markdown",
      "source": [
        "## **Step 2:** Making Hardware ready\n"
      ],
      "metadata": {
        "id": "-y2FfoR13QpS"
      },
      "id": "-y2FfoR13QpS"
    },
    {
      "cell_type": "markdown",
      "source": [
        "### Getting the code"
      ],
      "metadata": {
        "id": "Nh_opNZ97fh-"
      },
      "id": "Nh_opNZ97fh-"
    },
    {
      "cell_type": "markdown",
      "source": [
        "Open Arduino IDE and follow these sub steps:\n",
        "\n",
        "Go to `File---> Examples---> Esp32---> Camera---> CameraWebServer`\n",
        "\n",
        "if you can not see the Esp32 in Examples then do not worry and follow this\n",
        "\n",
        "Go to `Tools---> Board:---> Boards Manager...`\n",
        "    \n",
        "now find Esp32 in board manager and install it in your IDE by clicking the install button."
      ],
      "metadata": {
        "id": "tLsG7FOh4JKj"
      },
      "id": "tLsG7FOh4JKj"
    },
    {
      "cell_type": "markdown",
      "source": [
        "### Interfacing the Hardware"
      ],
      "metadata": {
        "id": "NK03Z2SN7l8l"
      },
      "id": "NK03Z2SN7l8l"
    },
    {
      "cell_type": "markdown",
      "source": [
        "See the beloy diagram and interface the esp32-cam as ot is (Do not forget to connect GPIO0 pin to GND).\n",
        "\n",
        "Now connect the FTDI to the computer through the usb cable\n",
        "* 5V ---> VCC\n",
        "* GND ---> GND\n",
        "* U0T ---> Rx\n",
        "* U0R ---> Tx\n",
        "* IO0 ---> GND\n",
        "\n",
        "pin diagram for your ease."
      ],
      "metadata": {
        "id": "6tC39tjo65-E"
      },
      "id": "6tC39tjo65-E"
    },
    {
      "cell_type": "markdown",
      "source": [
        "![ftdi-esp32-cam-Sketch_bb.jpg](data:image/jpeg;base64,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)"
      ],
      "metadata": {
        "id": "62QVBe0E6jdu"
      },
      "id": "62QVBe0E6jdu"
    },
    {
      "cell_type": "markdown",
      "source": [
        "### Installing code to Hardware"
      ],
      "metadata": {
        "id": "mmHNA9It_w08"
      },
      "id": "mmHNA9It_w08"
    },
    {
      "cell_type": "markdown",
      "source": [
        "Follow these steps to install code to your Hardware:\n",
        "* **Step 1:** Open the example code and do some necessary changes so that it can be used in our project, which are as follows:\n",
        "  * Comment the line no 17 which is `#define CAMERA_MODEL_ESP_EYE  // Has PSRAM`\n",
        "  * uncomment the line no 25 which is `#define CAMERA_MODEL_AI_THINKER // Has PSRAM`\n",
        "  * change the ssid and password\n",
        "  ```\n",
        "  const char *ssid = \"**********\";\n",
        "  const char *password = \"**********\";\n",
        "  ```\n",
        "\n",
        "Now Install the code on esp32cam by selecting the correct board and port to which the esp32-cam is connected. To do so\n",
        "\n",
        "Go to `Tools---> Board---> esp32---> AI Thinker ESP32-CAM`\n",
        "\n",
        "Go to `Tools---> Port---> your port`\n",
        "\n",
        "and hit the upload button (it will take some time to verify and upload the code to the esp32-cam).\n",
        "\n",
        "if it shows any error the for debugging follow these steps:\n",
        "* Press the reset button present on the esp32-cam module.\n",
        "* Check the connection for any loose fitting.\n"
      ],
      "metadata": {
        "id": "a7yrk0sg4SJN"
      },
      "id": "a7yrk0sg4SJN"
    },
    {
      "cell_type": "markdown",
      "source": [
        "### Getting esp32_url for this project"
      ],
      "metadata": {
        "id": "2wWWs7Y1EyZX"
      },
      "id": "2wWWs7Y1EyZX"
    },
    {
      "cell_type": "markdown",
      "source": [
        "Your Hardware is ready with the code now, only you need to get your esp32_url to get the camera access for this project. To do so you need to follow some steps which are as follows:\n",
        "* Open the serial monitor\n",
        "* Set the baud rate to `115200 baud`\n",
        "* Remove the jumper wire which is connected to IO0 to GND of esp32-cam module\n",
        "* Press the reset button present on the esp32-cam module, you will notice some url is printed on the serial monitor.\n",
        "* Copy this url and paste on the browser of your PC (ensure that your pc is also connected to the same hotspot to which the esp32-cam module is connected).\n",
        "* Now serach for the start stream button red in colour.\n",
        "* Click that button for starting the video stream, now video will start streaming on the web page\n",
        "* Now right click on the video displayed and go to open in new tab and cose the previous tab\n",
        "* Copy the url of the current page and thats it you got your esp32 url."
      ],
      "metadata": {
        "id": "MHxl9NmWjxzC"
      },
      "id": "MHxl9NmWjxzC"
    },
    {
      "cell_type": "markdown",
      "source": [
        "## **Step 3:** Necessary Imports\n"
      ],
      "metadata": {
        "id": "FSNpz3TzcS0H"
      },
      "id": "FSNpz3TzcS0H"
    },
    {
      "cell_type": "code",
      "execution_count": 72,
      "id": "a305e00a-1919-4ff3-ae75-fb86a50075b7",
      "metadata": {
        "id": "a305e00a-1919-4ff3-ae75-fb86a50075b7"
      },
      "outputs": [],
      "source": [
        "import cv2  # openCV library for image processing\n",
        "import os  # for some system functions\n",
        "import numpy as np   # for data processing\n",
        "import pandas as pd  # for data manupulation\n",
        "from PIL import Image  # for accessing the image to our code as data\n",
        "import matplotlib.pyplot as plt\n",
        "import seaborn as sns\n",
        "import tensorflow as tf  # for making deeplearning model\n",
        "from tensorflow.keras.models import Sequential\n",
        "from tensorflow.keras.layers import Conv2D, MaxPooling2D, Flatten, Dense, Dropout, BatchNormalization\n",
        "from tensorflow.keras.optimizers import Adam\n",
        "from tensorflow.keras.callbacks import ReduceLROnPlateau\n",
        "from tensorflow.keras.preprocessing.image import ImageDataGenerator\n",
        "from tensorflow.keras.models import load_model\n",
        "from sklearn.preprocessing import OneHotEncoder\n",
        "from sklearn.model_selection import train_test_split # for spliting the data into test and train\n",
        "from sklearn.metrics import classification_report,confusion_matrix\n",
        "import time"
      ]
    },
    {
      "cell_type": "markdown",
      "source": [
        "### Connecting the drive to to notebook by running this code."
      ],
      "metadata": {
        "id": "vVJPcHat9Bm8"
      },
      "id": "vVJPcHat9Bm8"
    },
    {
      "cell_type": "code",
      "source": [
        "from google.colab import drive\n",
        "drive.mount('/content/drive')"
      ],
      "metadata": {
        "colab": {
          "base_uri": "https://localhost:8080/"
        },
        "id": "WP4EFgfqvpkG",
        "outputId": "abc04ade-8785-45bc-afd7-9f395eb4f919"
      },
      "id": "WP4EFgfqvpkG",
      "execution_count": 73,
      "outputs": [
        {
          "output_type": "stream",
          "name": "stdout",
          "text": [
            "Drive already mounted at /content/drive; to attempt to forcibly remount, call drive.mount(\"/content/drive\", force_remount=True).\n"
          ]
        }
      ]
    },
    {
      "cell_type": "markdown",
      "source": [
        "## **Step 4:** Data Collection and Processing\n"
      ],
      "metadata": {
        "id": "YjTEsSBJbZL6"
      },
      "id": "YjTEsSBJbZL6"
    },
    {
      "cell_type": "markdown",
      "source": [
        "### Data Collection\n"
      ],
      "metadata": {
        "id": "hz9T9Is30LLK"
      },
      "id": "hz9T9Is30LLK"
    },
    {
      "cell_type": "code",
      "source": [
        "def capture_images_from_esp32(class_name, esp32_url, capture_duration=20, save_dir='data'):\n",
        "    # Create the directory for the class if it doesn't exist\n",
        "    class_dir = os.path.join(save_dir, class_name)\n",
        "    os.makedirs(class_dir, exist_ok=True)\n",
        "\n",
        "    # Start capturing images from ESP32-CAM\n",
        "    cap = cv2.VideoCapture(esp32_url)\n",
        "    if not cap.isOpened():\n",
        "        print(f\"Failed to open video stream at {esp32_url}\")\n",
        "        return\n",
        "\n",
        "    start_time = time.time()\n",
        "    img_count = 0\n",
        "\n",
        "    while int(time.time() - start_time) < capture_duration:\n",
        "        ret, frame = cap.read()\n",
        "        if not ret:\n",
        "            print(\"Failed to capture image from ESP32-CAM\")\n",
        "            break\n",
        "\n",
        "        # Save the frame as an image file\n",
        "        img_path = os.path.join(class_dir, f\"{img_count}.jpg\")\n",
        "        cv2.imwrite(img_path, frame)\n",
        "        img_count += 1\n",
        "\n",
        "        # Display the frame (optional)\n",
        "        cv2.imshow('Capturing', frame)\n",
        "\n",
        "        # Press 'q' to quit early\n",
        "        if cv2.waitKey(1) & 0xFF == ord('q'):\n",
        "            break\n",
        "\n",
        "    # Release the capture and close any OpenCV windows\n",
        "    cap.release()\n",
        "    cv2.destroyAllWindows()\n",
        "    print(f\"Captured {img_count} images for class '{class_name}'.\")"
      ],
      "metadata": {
        "id": "ga0jFBVqlHtE"
      },
      "id": "ga0jFBVqlHtE",
      "execution_count": 74,
      "outputs": []
    },
    {
      "cell_type": "code",
      "source": [
        "esp32_url = 'http://192.168.144.123:81/stream'  # Replace with your ESP32-CAM stream URL"
      ],
      "metadata": {
        "id": "JArxNAVNl2WH"
      },
      "id": "JArxNAVNl2WH",
      "execution_count": 75,
      "outputs": []
    },
    {
      "cell_type": "code",
      "source": [
        "if __name__ == \"__main__\":\n",
        "    print(f\"Trying to open video stream at {esp32_url}\")\n",
        "\n",
        "    while True:\n",
        "        class_name = input(\"Which class are you going to capture? (leave empty to exit) \")\n",
        "        if not class_name:\n",
        "            print(\"Exiting...\")\n",
        "            break\n",
        "\n",
        "        print(f\"Starting capture for class: {class_name}\")\n",
        "        capture_images_from_esp32(class_name, esp32_url)\n",
        "        print(f\"Finished capturing images for class: {class_name}\")"
      ],
      "metadata": {
        "id": "X0ns-iyNlr9n",
        "colab": {
          "base_uri": "https://localhost:8080/"
        },
        "outputId": "11cda77d-23f4-4d97-88a4-eaa0eeed0cba"
      },
      "id": "X0ns-iyNlr9n",
      "execution_count": 76,
      "outputs": [
        {
          "output_type": "stream",
          "name": "stdout",
          "text": [
            "Trying to open video stream at http://192.168.144.123:81/stream\n",
            "Which class are you going to capture? (leave empty to exit) \n",
            "Exiting...\n"
          ]
        }
      ]
    },
    {
      "cell_type": "markdown",
      "source": [
        "### Storing collected data into a csv file"
      ],
      "metadata": {
        "id": "_ydKy7e_8cfu"
      },
      "id": "_ydKy7e_8cfu"
    },
    {
      "cell_type": "code",
      "source": [
        "# this code for store the collected data into a csv file\n",
        "def image_to_csv(image_folder_path, train_csv_file_path, test_csv_file_path, test_size=0.2, random_state=42):\n",
        "    rows = []\n",
        "    labels = [folder for folder in os.listdir(image_folder_path) if os.path.isdir(os.path.join(image_folder_path, folder))]\n",
        "\n",
        "    for label in labels:\n",
        "        label_folder_path = os.path.join(image_folder_path, label)\n",
        "\n",
        "        for image_name in os.listdir(label_folder_path):\n",
        "            if image_name.endswith(('.png', '.jpg', '.jpeg', '.bmp', '.gif')):\n",
        "                image_path = os.path.join(label_folder_path, image_name)\n",
        "                image = Image.open(image_path)\n",
        "                image = image.convert('L')\n",
        "                image = image.resize((40, 40))  # Resize images to 40x40\n",
        "                image_array = np.array(image)\n",
        "                image_flattened = image_array.flatten().tolist()\n",
        "                row = [label] + image_flattened\n",
        "                rows.append(row)\n",
        "\n",
        "    df = pd.DataFrame(rows)\n",
        "    column_names = ['label'] + ['pixel_' + str(i) for i in range(len(rows[0]) - 1)]\n",
        "    df.columns = column_names\n",
        "    train_df, test_df = train_test_split(df, test_size=test_size, random_state=random_state, stratify=df['label'])\n",
        "    train_df.to_csv(train_csv_file_path, index=False)\n",
        "    test_df.to_csv(test_csv_file_path, index=False)"
      ],
      "metadata": {
        "id": "t8zcaj0FF1FL"
      },
      "id": "t8zcaj0FF1FL",
      "execution_count": 77,
      "outputs": []
    },
    {
      "cell_type": "code",
      "source": [
        "image_folder_path = '/content/drive/MyDrive/Last_Task/dataset'  # change according to your file address"
      ],
      "metadata": {
        "id": "Hg-adVHemNGT"
      },
      "id": "Hg-adVHemNGT",
      "execution_count": 78,
      "outputs": []
    },
    {
      "cell_type": "code",
      "source": [
        "train_csv_file_path = 'train.csv'\n",
        "test_csv_file_path = 'test.csv'\n",
        "image_to_csv(image_folder_path, train_csv_file_path, test_csv_file_path)"
      ],
      "metadata": {
        "id": "S2ONwxNS8wiq"
      },
      "id": "S2ONwxNS8wiq",
      "execution_count": 79,
      "outputs": []
    },
    {
      "cell_type": "markdown",
      "source": [
        "### Data Loading\n"
      ],
      "metadata": {
        "id": "uOhwyEKbUL5U"
      },
      "id": "uOhwyEKbUL5U"
    },
    {
      "cell_type": "markdown",
      "source": [
        "Now reading our created csv file from the drive, replace this with your address of csv file."
      ],
      "metadata": {
        "id": "wTnB8tco9T49"
      },
      "id": "wTnB8tco9T49"
    },
    {
      "cell_type": "code",
      "execution_count": 141,
      "id": "d91ebdeb-d482-49ae-a86d-e96dfff6ad73",
      "metadata": {
        "id": "d91ebdeb-d482-49ae-a86d-e96dfff6ad73"
      },
      "outputs": [],
      "source": [
        "train_df = pd.read_csv(\"train.csv\")\n",
        "test_df = pd.read_csv(\"test.csv\")\n",
        "# you should change these file path according to your file path"
      ]
    },
    {
      "cell_type": "code",
      "execution_count": 142,
      "id": "413d5d1c-0103-4152-bcbc-11de33f1ddef",
      "metadata": {
        "id": "413d5d1c-0103-4152-bcbc-11de33f1ddef"
      },
      "outputs": [],
      "source": [
        "# you should change these file path according to your file path\n",
        "test = pd.read_csv(\"test.csv\")\n",
        "y = test['label']"
      ]
    },
    {
      "cell_type": "code",
      "source": [
        "train_df.head()"
      ],
      "metadata": {
        "colab": {
          "base_uri": "https://localhost:8080/",
          "height": 255
        },
        "id": "qzpDfFLvUdoq",
        "outputId": "469891f7-8625-4b26-b909-a5101d176cd2"
      },
      "id": "qzpDfFLvUdoq",
      "execution_count": 143,
      "outputs": [
        {
          "output_type": "execute_result",
          "data": {
            "text/plain": [
              "  label  pixel_0  pixel_1  pixel_2  pixel_3  pixel_4  pixel_5  pixel_6  \\\n",
              "0     d      120      128      136      143      151      162      171   \n",
              "1     c       97      103      106      108      109      131      159   \n",
              "2     d      121      129      136      145      151      154      154   \n",
              "3     d      113      122      130      139      148      161      173   \n",
              "4     d      109      119      126      135      146      162      174   \n",
              "\n",
              "   pixel_7  pixel_8  ...  pixel_1590  pixel_1591  pixel_1592  pixel_1593  \\\n",
              "0      164      162  ...         142          73          23          24   \n",
              "1      165      160  ...          26          22          20          20   \n",
              "2      166      172  ...          48          21          24          24   \n",
              "3      172      162  ...         142         138         136         133   \n",
              "4      173      164  ...         144         140         136         132   \n",
              "\n",
              "   pixel_1594  pixel_1595  pixel_1596  pixel_1597  pixel_1598  pixel_1599  \n",
              "0          23          23          20          18          19          29  \n",
              "1          43         103          82          37          35          34  \n",
              "2          23          20          20          29          39          40  \n",
              "3         102          30          19          19          18          17  \n",
              "4         108          39          19          18          18          17  \n",
              "\n",
              "[5 rows x 1601 columns]"
            ],
            "text/html": [
              "\n",
              "  <div id=\"df-e1e06917-6c54-437b-b4fe-4a760aa00b43\" class=\"colab-df-container\">\n",
              "    <div>\n",
              "<style scoped>\n",
              "    .dataframe tbody tr th:only-of-type {\n",
              "        vertical-align: middle;\n",
              "    }\n",
              "\n",
              "    .dataframe tbody tr th {\n",
              "        vertical-align: top;\n",
              "    }\n",
              "\n",
              "    .dataframe thead th {\n",
              "        text-align: right;\n",
              "    }\n",
              "</style>\n",
              "<table border=\"1\" class=\"dataframe\">\n",
              "  <thead>\n",
              "    <tr style=\"text-align: right;\">\n",
              "      <th></th>\n",
              "      <th>label</th>\n",
              "      <th>pixel_0</th>\n",
              "      <th>pixel_1</th>\n",
              "      <th>pixel_2</th>\n",
              "      <th>pixel_3</th>\n",
              "      <th>pixel_4</th>\n",
              "      <th>pixel_5</th>\n",
              "      <th>pixel_6</th>\n",
              "      <th>pixel_7</th>\n",
              "      <th>pixel_8</th>\n",
              "      <th>...</th>\n",
              "      <th>pixel_1590</th>\n",
              "      <th>pixel_1591</th>\n",
              "      <th>pixel_1592</th>\n",
              "      <th>pixel_1593</th>\n",
              "      <th>pixel_1594</th>\n",
              "      <th>pixel_1595</th>\n",
              "      <th>pixel_1596</th>\n",
              "      <th>pixel_1597</th>\n",
              "      <th>pixel_1598</th>\n",
              "      <th>pixel_1599</th>\n",
              "    </tr>\n",
              "  </thead>\n",
              "  <tbody>\n",
              "    <tr>\n",
              "      <th>0</th>\n",
              "      <td>d</td>\n",
              "      <td>120</td>\n",
              "      <td>128</td>\n",
              "      <td>136</td>\n",
              "      <td>143</td>\n",
              "      <td>151</td>\n",
              "      <td>162</td>\n",
              "      <td>171</td>\n",
              "      <td>164</td>\n",
              "      <td>162</td>\n",
              "      <td>...</td>\n",
              "      <td>142</td>\n",
              "      <td>73</td>\n",
              "      <td>23</td>\n",
              "      <td>24</td>\n",
              "      <td>23</td>\n",
              "      <td>23</td>\n",
              "      <td>20</td>\n",
              "      <td>18</td>\n",
              "      <td>19</td>\n",
              "      <td>29</td>\n",
              "    </tr>\n",
              "    <tr>\n",
              "      <th>1</th>\n",
              "      <td>c</td>\n",
              "      <td>97</td>\n",
              "      <td>103</td>\n",
              "      <td>106</td>\n",
              "      <td>108</td>\n",
              "      <td>109</td>\n",
              "      <td>131</td>\n",
              "      <td>159</td>\n",
              "      <td>165</td>\n",
              "      <td>160</td>\n",
              "      <td>...</td>\n",
              "      <td>26</td>\n",
              "      <td>22</td>\n",
              "      <td>20</td>\n",
              "      <td>20</td>\n",
              "      <td>43</td>\n",
              "      <td>103</td>\n",
              "      <td>82</td>\n",
              "      <td>37</td>\n",
              "      <td>35</td>\n",
              "      <td>34</td>\n",
              "    </tr>\n",
              "    <tr>\n",
              "      <th>2</th>\n",
              "      <td>d</td>\n",
              "      <td>121</td>\n",
              "      <td>129</td>\n",
              "      <td>136</td>\n",
              "      <td>145</td>\n",
              "      <td>151</td>\n",
              "      <td>154</td>\n",
              "      <td>154</td>\n",
              "      <td>166</td>\n",
              "      <td>172</td>\n",
              "      <td>...</td>\n",
              "      <td>48</td>\n",
              "      <td>21</td>\n",
              "      <td>24</td>\n",
              "      <td>24</td>\n",
              "      <td>23</td>\n",
              "      <td>20</td>\n",
              "      <td>20</td>\n",
              "      <td>29</td>\n",
              "      <td>39</td>\n",
              "      <td>40</td>\n",
              "    </tr>\n",
              "    <tr>\n",
              "      <th>3</th>\n",
              "      <td>d</td>\n",
              "      <td>113</td>\n",
              "      <td>122</td>\n",
              "      <td>130</td>\n",
              "      <td>139</td>\n",
              "      <td>148</td>\n",
              "      <td>161</td>\n",
              "      <td>173</td>\n",
              "      <td>172</td>\n",
              "      <td>162</td>\n",
              "      <td>...</td>\n",
              "      <td>142</td>\n",
              "      <td>138</td>\n",
              "      <td>136</td>\n",
              "      <td>133</td>\n",
              "      <td>102</td>\n",
              "      <td>30</td>\n",
              "      <td>19</td>\n",
              "      <td>19</td>\n",
              "      <td>18</td>\n",
              "      <td>17</td>\n",
              "    </tr>\n",
              "    <tr>\n",
              "      <th>4</th>\n",
              "      <td>d</td>\n",
              "      <td>109</td>\n",
              "      <td>119</td>\n",
              "      <td>126</td>\n",
              "      <td>135</td>\n",
              "      <td>146</td>\n",
              "      <td>162</td>\n",
              "      <td>174</td>\n",
              "      <td>173</td>\n",
              "      <td>164</td>\n",
              "      <td>...</td>\n",
              "      <td>144</td>\n",
              "      <td>140</td>\n",
              "      <td>136</td>\n",
              "      <td>132</td>\n",
              "      <td>108</td>\n",
              "      <td>39</td>\n",
              "      <td>19</td>\n",
              "      <td>18</td>\n",
              "      <td>18</td>\n",
              "      <td>17</td>\n",
              "    </tr>\n",
              "  </tbody>\n",
              "</table>\n",
              "<p>5 rows × 1601 columns</p>\n",
              "</div>\n",
              "    <div class=\"colab-df-buttons\">\n",
              "\n",
              "  <div class=\"colab-df-container\">\n",
              "    <button class=\"colab-df-convert\" onclick=\"convertToInteractive('df-e1e06917-6c54-437b-b4fe-4a760aa00b43')\"\n",
              "            title=\"Convert this dataframe to an interactive table.\"\n",
              "            style=\"display:none;\">\n",
              "\n",
              "  <svg xmlns=\"http://www.w3.org/2000/svg\" height=\"24px\" viewBox=\"0 -960 960 960\">\n",
              "    <path d=\"M120-120v-720h720v720H120Zm60-500h600v-160H180v160Zm220 220h160v-160H400v160Zm0 220h160v-160H400v160ZM180-400h160v-160H180v160Zm440 0h160v-160H620v160ZM180-180h160v-160H180v160Zm440 0h160v-160H620v160Z\"/>\n",
              "  </svg>\n",
              "    </button>\n",
              "\n",
              "  <style>\n",
              "    .colab-df-container {\n",
              "      display:flex;\n",
              "      gap: 12px;\n",
              "    }\n",
              "\n",
              "    .colab-df-convert {\n",
              "      background-color: #E8F0FE;\n",
              "      border: none;\n",
              "      border-radius: 50%;\n",
              "      cursor: pointer;\n",
              "      display: none;\n",
              "      fill: #1967D2;\n",
              "      height: 32px;\n",
              "      padding: 0 0 0 0;\n",
              "      width: 32px;\n",
              "    }\n",
              "\n",
              "    .colab-df-convert:hover {\n",
              "      background-color: #E2EBFA;\n",
              "      box-shadow: 0px 1px 2px rgba(60, 64, 67, 0.3), 0px 1px 3px 1px rgba(60, 64, 67, 0.15);\n",
              "      fill: #174EA6;\n",
              "    }\n",
              "\n",
              "    .colab-df-buttons div {\n",
              "      margin-bottom: 4px;\n",
              "    }\n",
              "\n",
              "    [theme=dark] .colab-df-convert {\n",
              "      background-color: #3B4455;\n",
              "      fill: #D2E3FC;\n",
              "    }\n",
              "\n",
              "    [theme=dark] .colab-df-convert:hover {\n",
              "      background-color: #434B5C;\n",
              "      box-shadow: 0px 1px 3px 1px rgba(0, 0, 0, 0.15);\n",
              "      filter: drop-shadow(0px 1px 2px rgba(0, 0, 0, 0.3));\n",
              "      fill: #FFFFFF;\n",
              "    }\n",
              "  </style>\n",
              "\n",
              "    <script>\n",
              "      const buttonEl =\n",
              "        document.querySelector('#df-e1e06917-6c54-437b-b4fe-4a760aa00b43 button.colab-df-convert');\n",
              "      buttonEl.style.display =\n",
              "        google.colab.kernel.accessAllowed ? 'block' : 'none';\n",
              "\n",
              "      async function convertToInteractive(key) {\n",
              "        const element = document.querySelector('#df-e1e06917-6c54-437b-b4fe-4a760aa00b43');\n",
              "        const dataTable =\n",
              "          await google.colab.kernel.invokeFunction('convertToInteractive',\n",
              "                                                    [key], {});\n",
              "        if (!dataTable) return;\n",
              "\n",
              "        const docLinkHtml = 'Like what you see? Visit the ' +\n",
              "          '<a target=\"_blank\" href=https://colab.research.google.com/notebooks/data_table.ipynb>data table notebook</a>'\n",
              "          + ' to learn more about interactive tables.';\n",
              "        element.innerHTML = '';\n",
              "        dataTable['output_type'] = 'display_data';\n",
              "        await google.colab.output.renderOutput(dataTable, element);\n",
              "        const docLink = document.createElement('div');\n",
              "        docLink.innerHTML = docLinkHtml;\n",
              "        element.appendChild(docLink);\n",
              "      }\n",
              "    </script>\n",
              "  </div>\n",
              "\n",
              "\n",
              "<div id=\"df-45aa67db-0bbe-4cb4-863d-97425520a66c\">\n",
              "  <button class=\"colab-df-quickchart\" onclick=\"quickchart('df-45aa67db-0bbe-4cb4-863d-97425520a66c')\"\n",
              "            title=\"Suggest charts\"\n",
              "            style=\"display:none;\">\n",
              "\n",
              "<svg xmlns=\"http://www.w3.org/2000/svg\" height=\"24px\"viewBox=\"0 0 24 24\"\n",
              "     width=\"24px\">\n",
              "    <g>\n",
              "        <path d=\"M19 3H5c-1.1 0-2 .9-2 2v14c0 1.1.9 2 2 2h14c1.1 0 2-.9 2-2V5c0-1.1-.9-2-2-2zM9 17H7v-7h2v7zm4 0h-2V7h2v10zm4 0h-2v-4h2v4z\"/>\n",
              "    </g>\n",
              "</svg>\n",
              "  </button>\n",
              "\n",
              "<style>\n",
              "  .colab-df-quickchart {\n",
              "      --bg-color: #E8F0FE;\n",
              "      --fill-color: #1967D2;\n",
              "      --hover-bg-color: #E2EBFA;\n",
              "      --hover-fill-color: #174EA6;\n",
              "      --disabled-fill-color: #AAA;\n",
              "      --disabled-bg-color: #DDD;\n",
              "  }\n",
              "\n",
              "  [theme=dark] .colab-df-quickchart {\n",
              "      --bg-color: #3B4455;\n",
              "      --fill-color: #D2E3FC;\n",
              "      --hover-bg-color: #434B5C;\n",
              "      --hover-fill-color: #FFFFFF;\n",
              "      --disabled-bg-color: #3B4455;\n",
              "      --disabled-fill-color: #666;\n",
              "  }\n",
              "\n",
              "  .colab-df-quickchart {\n",
              "    background-color: var(--bg-color);\n",
              "    border: none;\n",
              "    border-radius: 50%;\n",
              "    cursor: pointer;\n",
              "    display: none;\n",
              "    fill: var(--fill-color);\n",
              "    height: 32px;\n",
              "    padding: 0;\n",
              "    width: 32px;\n",
              "  }\n",
              "\n",
              "  .colab-df-quickchart:hover {\n",
              "    background-color: var(--hover-bg-color);\n",
              "    box-shadow: 0 1px 2px rgba(60, 64, 67, 0.3), 0 1px 3px 1px rgba(60, 64, 67, 0.15);\n",
              "    fill: var(--button-hover-fill-color);\n",
              "  }\n",
              "\n",
              "  .colab-df-quickchart-complete:disabled,\n",
              "  .colab-df-quickchart-complete:disabled:hover {\n",
              "    background-color: var(--disabled-bg-color);\n",
              "    fill: var(--disabled-fill-color);\n",
              "    box-shadow: none;\n",
              "  }\n",
              "\n",
              "  .colab-df-spinner {\n",
              "    border: 2px solid var(--fill-color);\n",
              "    border-color: transparent;\n",
              "    border-bottom-color: var(--fill-color);\n",
              "    animation:\n",
              "      spin 1s steps(1) infinite;\n",
              "  }\n",
              "\n",
              "  @keyframes spin {\n",
              "    0% {\n",
              "      border-color: transparent;\n",
              "      border-bottom-color: var(--fill-color);\n",
              "      border-left-color: var(--fill-color);\n",
              "    }\n",
              "    20% {\n",
              "      border-color: transparent;\n",
              "      border-left-color: var(--fill-color);\n",
              "      border-top-color: var(--fill-color);\n",
              "    }\n",
              "    30% {\n",
              "      border-color: transparent;\n",
              "      border-left-color: var(--fill-color);\n",
              "      border-top-color: var(--fill-color);\n",
              "      border-right-color: var(--fill-color);\n",
              "    }\n",
              "    40% {\n",
              "      border-color: transparent;\n",
              "      border-right-color: var(--fill-color);\n",
              "      border-top-color: var(--fill-color);\n",
              "    }\n",
              "    60% {\n",
              "      border-color: transparent;\n",
              "      border-right-color: var(--fill-color);\n",
              "    }\n",
              "    80% {\n",
              "      border-color: transparent;\n",
              "      border-right-color: var(--fill-color);\n",
              "      border-bottom-color: var(--fill-color);\n",
              "    }\n",
              "    90% {\n",
              "      border-color: transparent;\n",
              "      border-bottom-color: var(--fill-color);\n",
              "    }\n",
              "  }\n",
              "</style>\n",
              "\n",
              "  <script>\n",
              "    async function quickchart(key) {\n",
              "      const quickchartButtonEl =\n",
              "        document.querySelector('#' + key + ' button');\n",
              "      quickchartButtonEl.disabled = true;  // To prevent multiple clicks.\n",
              "      quickchartButtonEl.classList.add('colab-df-spinner');\n",
              "      try {\n",
              "        const charts = await google.colab.kernel.invokeFunction(\n",
              "            'suggestCharts', [key], {});\n",
              "      } catch (error) {\n",
              "        console.error('Error during call to suggestCharts:', error);\n",
              "      }\n",
              "      quickchartButtonEl.classList.remove('colab-df-spinner');\n",
              "      quickchartButtonEl.classList.add('colab-df-quickchart-complete');\n",
              "    }\n",
              "    (() => {\n",
              "      let quickchartButtonEl =\n",
              "        document.querySelector('#df-45aa67db-0bbe-4cb4-863d-97425520a66c button');\n",
              "      quickchartButtonEl.style.display =\n",
              "        google.colab.kernel.accessAllowed ? 'block' : 'none';\n",
              "    })();\n",
              "  </script>\n",
              "</div>\n",
              "\n",
              "    </div>\n",
              "  </div>\n"
            ],
            "application/vnd.google.colaboratory.intrinsic+json": {
              "type": "dataframe",
              "variable_name": "train_df"
            }
          },
          "metadata": {},
          "execution_count": 143
        }
      ]
    },
    {
      "cell_type": "code",
      "source": [
        "# Create the count plot\n",
        "plt.figure(figsize=(10, 10))\n",
        "sns.set_style(\"darkgrid\")\n",
        "sns.countplot(data=train_df, x='label')  # Use data= to specify the DataFrame\n",
        "plt.show()"
      ],
      "metadata": {
        "colab": {
          "base_uri": "https://localhost:8080/",
          "height": 655
        },
        "id": "1yBL-5pCUros",
        "outputId": "3e617e69-fbdb-42be-c4a1-be2f50524e3c"
      },
      "id": "1yBL-5pCUros",
      "execution_count": 144,
      "outputs": [
        {
          "output_type": "display_data",
          "data": {
            "text/plain": [
              "<Figure size 1000x1000 with 1 Axes>"
            ],
            "image/png": "[encoded data removed]"
          },
          "metadata": {}
        }
      ]
    },
    {
      "cell_type": "markdown",
      "source": [
        "### Data Processing"
      ],
      "metadata": {
        "id": "OtIsb0KJY83I"
      },
      "id": "OtIsb0KJY83I"
    },
    {
      "cell_type": "markdown",
      "source": [
        "Function which converts the labels into a integer like:\n",
        "\n",
        "\n",
        "*   a ---> 1\n",
        "*   b ---> 2\n",
        "*   c ---> 3\n",
        "\n",
        "and so on...\n",
        "\n"
      ],
      "metadata": {
        "id": "rxXoc0ew9kZY"
      },
      "id": "rxXoc0ew9kZY"
    },
    {
      "cell_type": "code",
      "source": [
        "def change_label(row):\n",
        "    label_mapping = {\n",
        "        'a': 1, 'b': 2, 'c': 3, 'd': 4, 'e': 5, 'f': 6, 'g': 7, 'h': 8,\n",
        "        'i': 9, 'j': 10, 'k': 11, 'l': 12, 'm': 13, 'n': 14, 'o': 15, 'p': 16,\n",
        "        'q': 17, 'r': 18, 's': 19, 't': 20, 'u': 21, 'v': 22, 'w': 23, 'x': 24,\n",
        "        'y': 25, 'z': 26, 'empty': 0\n",
        "    }\n",
        "    return label_mapping.get(row['label'], 0)"
      ],
      "metadata": {
        "id": "EuiHSkHoL5wX"
      },
      "id": "EuiHSkHoL5wX",
      "execution_count": 145,
      "outputs": []
    },
    {
      "cell_type": "markdown",
      "source": [
        "Now we have to apply the functions previously made to convert the labels from string to an integer value which will be helpful for our model development."
      ],
      "metadata": {
        "id": "b7Y30M0L-Bf2"
      },
      "id": "b7Y30M0L-Bf2"
    },
    {
      "cell_type": "code",
      "source": [
        "# Apply the function to each row of the DataFrame\n",
        "train_df['label'] = train_df.apply(change_label, axis=1)\n",
        "test_df['label'] = test_df.apply(change_label, axis=1)"
      ],
      "metadata": {
        "id": "l7pGJ9z7L_Nc"
      },
      "id": "l7pGJ9z7L_Nc",
      "execution_count": 146,
      "outputs": []
    },
    {
      "cell_type": "markdown",
      "source": [
        "Now defining y_train and y_test for developing our model as labels"
      ],
      "metadata": {
        "id": "jbJe1iatH1Ul"
      },
      "id": "jbJe1iatH1Ul"
    },
    {
      "cell_type": "code",
      "execution_count": 147,
      "id": "3f5a1427-be96-407a-97ac-a3f3e83323c9",
      "metadata": {
        "id": "3f5a1427-be96-407a-97ac-a3f3e83323c9"
      },
      "outputs": [],
      "source": [
        "y_train = train_df['label']\n",
        "y_test = test_df['label']\n",
        "y_debug = y_train[0:10]\n",
        "del train_df['label']\n",
        "del test_df['label']"
      ]
    },
    {
      "cell_type": "code",
      "source": [
        "print(y_train) # Prints the y_train all labels"
      ],
      "metadata": {
        "colab": {
          "base_uri": "https://localhost:8080/"
        },
        "id": "LkjBrZQFMQeF",
        "outputId": "264a6956-7f81-4396-8bec-80b83864f277"
      },
      "id": "LkjBrZQFMQeF",
      "execution_count": 148,
      "outputs": [
        {
          "output_type": "stream",
          "name": "stdout",
          "text": [
            "0      4\n",
            "1      3\n",
            "2      4\n",
            "3      4\n",
            "4      4\n",
            "      ..\n",
            "395    4\n",
            "396    0\n",
            "397    4\n",
            "398    2\n",
            "399    1\n",
            "Name: label, Length: 400, dtype: int64\n"
          ]
        }
      ]
    },
    {
      "cell_type": "code",
      "source": [
        "train_df.shape # prints the shape of the train_df"
      ],
      "metadata": {
        "colab": {
          "base_uri": "https://localhost:8080/"
        },
        "id": "PS-K7T_7MQYB",
        "outputId": "179599b9-0dc2-484a-cee5-36e3617be34b"
      },
      "id": "PS-K7T_7MQYB",
      "execution_count": 89,
      "outputs": [
        {
          "output_type": "execute_result",
          "data": {
            "text/plain": [
              "(400, 1600)"
            ]
          },
          "metadata": {},
          "execution_count": 89
        }
      ]
    },
    {
      "cell_type": "markdown",
      "source": [
        "The code snippet provided utilizes the LabelBinarizer class from the sklearn.preprocessing module in the scikit-learn library. This class is used to convert categorical labels into a binary (one-hot encoded) format"
      ],
      "metadata": {
        "id": "JnG-ozrJGoJi"
      },
      "id": "JnG-ozrJGoJi"
    },
    {
      "cell_type": "code",
      "execution_count": 90,
      "id": "7c407bdf-8348-4526-ae09-fa5434787d54",
      "metadata": {
        "id": "7c407bdf-8348-4526-ae09-fa5434787d54"
      },
      "outputs": [],
      "source": [
        "from sklearn.preprocessing import LabelBinarizer # Import the LabelBinarizer"
      ]
    },
    {
      "cell_type": "code",
      "source": [
        "label_binarizer = LabelBinarizer() # Create an instance of LabelBinarizer"
      ],
      "metadata": {
        "id": "kr2T69NDHL11"
      },
      "id": "kr2T69NDHL11",
      "execution_count": 91,
      "outputs": []
    },
    {
      "cell_type": "code",
      "source": [
        "# Fit on the training data and transform both train and test data\n",
        "y_train = label_binarizer.fit_transform(y_train) # Fit the LabelBinarizer on the y_train data and transform it\n",
        "y_test = label_binarizer.fit_transform(y_test) # Fit the LabelBinarizer on the y_test data and transform it"
      ],
      "metadata": {
        "id": "5s3P09Z0HGz_"
      },
      "id": "5s3P09Z0HGz_",
      "execution_count": 92,
      "outputs": []
    },
    {
      "cell_type": "markdown",
      "source": [
        "Now defining the x_train and x_test for development of our model."
      ],
      "metadata": {
        "id": "hn5Jd20oHhnC"
      },
      "id": "hn5Jd20oHhnC"
    },
    {
      "cell_type": "code",
      "execution_count": 93,
      "id": "a0389c80-86b7-4ccc-977f-c4368a397f34",
      "metadata": {
        "id": "a0389c80-86b7-4ccc-977f-c4368a397f34"
      },
      "outputs": [],
      "source": [
        "x_train = train_df.values\n",
        "x_test = test_df.values"
      ]
    },
    {
      "cell_type": "code",
      "execution_count": 94,
      "id": "d5952c76-018c-4413-b21e-72ccf3f01509",
      "metadata": {
        "id": "d5952c76-018c-4413-b21e-72ccf3f01509"
      },
      "outputs": [],
      "source": [
        "# Convert y_train and y_test to numpy arrays if they are pandas Series\n",
        "if isinstance(y_train, pd.Series):\n",
        "    y_train = y_train.to_numpy()\n",
        "if isinstance(y_test, pd.Series):\n",
        "    y_test = y_test.to_numpy()"
      ]
    },
    {
      "cell_type": "code",
      "execution_count": 95,
      "id": "691db660-ddb2-4efd-89ab-7a7a11cb17fe",
      "metadata": {
        "id": "691db660-ddb2-4efd-89ab-7a7a11cb17fe"
      },
      "outputs": [],
      "source": [
        "# One-hot encode the labels\n",
        "encoder = OneHotEncoder(sparse=False)"
      ]
    },
    {
      "cell_type": "code",
      "execution_count": 96,
      "id": "c7b30940-6df6-415b-854f-399bca0db072",
      "metadata": {
        "colab": {
          "base_uri": "https://localhost:8080/"
        },
        "id": "c7b30940-6df6-415b-854f-399bca0db072",
        "outputId": "98eb28ad-d81c-42d3-bd71-303a3cbac51d"
      },
      "outputs": [
        {
          "output_type": "stream",
          "name": "stderr",
          "text": [
            "/usr/local/lib/python3.10/dist-packages/sklearn/preprocessing/_encoders.py:868: FutureWarning: `sparse` was renamed to `sparse_output` in version 1.2 and will be removed in 1.4. `sparse_output` is ignored unless you leave `sparse` to its default value.\n",
            "  warnings.warn(\n"
          ]
        }
      ],
      "source": [
        "# Reshape y_train and y_test for encoding\n",
        "y_train_flat = y_train.reshape(-1, 1)\n",
        "y_test_flat = y_test.reshape(-1, 1)\n",
        "\n",
        "y_train_encoded = encoder.fit_transform(y_train_flat)\n",
        "y_test_encoded = encoder.transform(y_test_flat)"
      ]
    },
    {
      "cell_type": "code",
      "source": [
        "# Reshape x_train and x_test to 4D tensors if they are not already\n",
        "if len(x_train.shape) == 2:  # If the shape is (num_samples, height*width)\n",
        "    x_train = x_train.reshape(x_train.shape[0], 40, 40, 1)\n",
        "if len(x_test.shape) == 2:  # If the shape is (num_samples, height*width)\n",
        "    x_test = x_test.reshape(x_test.shape[0], 40, 40, 1)"
      ],
      "metadata": {
        "id": "MoRNQ_xlrZIU"
      },
      "id": "MoRNQ_xlrZIU",
      "execution_count": 97,
      "outputs": []
    },
    {
      "cell_type": "code",
      "execution_count": 98,
      "id": "781a9580-702c-429d-9094-05ba2dcc1da4",
      "metadata": {
        "colab": {
          "base_uri": "https://localhost:8080/"
        },
        "id": "781a9580-702c-429d-9094-05ba2dcc1da4",
        "outputId": "d307061b-1385-42b9-ca5d-ae044e3a4af6"
      },
      "outputs": [
        {
          "output_type": "stream",
          "name": "stdout",
          "text": [
            "Shape of y_train_encoded: (2000, 2)\n",
            "Shape of y_test_encoded: (500, 2)\n",
            "Shape of x_train: (400, 40, 40, 1)\n",
            "Shape of x_test: (100, 40, 40, 1)\n"
          ]
        }
      ],
      "source": [
        "# This code will print the shape of all the data for developing the model\n",
        "print(\"Shape of y_train_encoded:\", y_train_encoded.shape)\n",
        "print(\"Shape of y_test_encoded:\", y_test_encoded.shape)\n",
        "print(\"Shape of x_train:\", x_train.shape)\n",
        "print(\"Shape of x_test:\", x_test.shape)"
      ]
    },
    {
      "cell_type": "code",
      "source": [
        "# Reshaping the array if not in desired shape\n",
        "print(\"Shape of x_train:\", x_train.shape)\n",
        "try:\n",
        "    reshaped_array = x_train.reshape(-1, 40, 40, 1)\n",
        "    print(\"Shape of the reshaped array:\", reshaped_array.shape)\n",
        "except ValueError as e:\n",
        "    print(\"Error:\", e)"
      ],
      "metadata": {
        "colab": {
          "base_uri": "https://localhost:8080/"
        },
        "id": "vdD25o91rd9c",
        "outputId": "1ea94563-430c-4434-a9cf-5c13b48d1e85"
      },
      "id": "vdD25o91rd9c",
      "execution_count": 99,
      "outputs": [
        {
          "output_type": "stream",
          "name": "stdout",
          "text": [
            "Shape of x_train: (400, 40, 40, 1)\n",
            "Shape of the reshaped array: (400, 40, 40, 1)\n"
          ]
        }
      ]
    },
    {
      "cell_type": "markdown",
      "source": [
        "### Debugging the data before model development."
      ],
      "metadata": {
        "id": "3rFpGMalIbFx"
      },
      "id": "3rFpGMalIbFx"
    },
    {
      "cell_type": "code",
      "execution_count": 100,
      "id": "fe8b9384-fa80-431f-8f15-7c51b3e6df2a",
      "metadata": {
        "colab": {
          "base_uri": "https://localhost:8080/"
        },
        "id": "fe8b9384-fa80-431f-8f15-7c51b3e6df2a",
        "outputId": "1c5ee9a5-216d-4eaa-822e-7d2833e4b945"
      },
      "outputs": [
        {
          "output_type": "execute_result",
          "data": {
            "text/plain": [
              "(1, 40, 40, 1)"
            ]
          },
          "metadata": {},
          "execution_count": 100
        }
      ],
      "source": [
        "x_tmp = x_train[0]\n",
        "x_tmp=x_tmp.reshape(1,40,40,1)\n",
        "x_tmp = np.array(x_tmp)\n",
        "x_tmp.shape"
      ]
    },
    {
      "cell_type": "code",
      "execution_count": 101,
      "id": "f1ca994e-ae00-4797-83c2-b40592b7ab19",
      "metadata": {
        "colab": {
          "base_uri": "https://localhost:8080/"
        },
        "id": "f1ca994e-ae00-4797-83c2-b40592b7ab19",
        "outputId": "63a85818-d709-4be6-e748-c58fe225da4b"
      },
      "outputs": [
        {
          "output_type": "execute_result",
          "data": {
            "text/plain": [
              "(10,)"
            ]
          },
          "metadata": {},
          "execution_count": 101
        }
      ],
      "source": [
        "np.transpose(y_debug).shape"
      ]
    },
    {
      "cell_type": "code",
      "execution_count": 102,
      "id": "97165030-6dbb-4295-8374-afbc3d82c4cd",
      "metadata": {
        "id": "97165030-6dbb-4295-8374-afbc3d82c4cd"
      },
      "outputs": [],
      "source": [
        "# I will use this for debuggin on the ESP32\n",
        "x_debug = (train_df.values)[0:10]\n",
        "csv_x_debug = 'csv_x.csv'\n",
        "csv_y_debug = 'csv_y.csv'\n",
        "y_db2 = np.array(y_debug).reshape(1,-1)\n",
        "# Write data to the CSV file\n",
        "np.savetxt(csv_x_debug, x_debug, delimiter=',', fmt='%s')\n",
        "np.savetxt(csv_y_debug, y_db2, delimiter=',', fmt='%s')"
      ]
    },
    {
      "cell_type": "markdown",
      "source": [
        "### Some more data processing before model development"
      ],
      "metadata": {
        "id": "fSkPjjfwIu6k"
      },
      "id": "fSkPjjfwIu6k"
    },
    {
      "cell_type": "code",
      "execution_count": 103,
      "id": "b65ab5df-04ef-44f6-ba11-92b1d9cc45dc",
      "metadata": {
        "id": "b65ab5df-04ef-44f6-ba11-92b1d9cc45dc"
      },
      "outputs": [],
      "source": [
        "# Normalize the data while preserving the data type\n",
        "x_train = (x_train.astype(np.float32)  / 127.5) - 1.0\n",
        "x_test = (x_test.astype(np.float32) / 127.5) - 1.0"
      ]
    },
    {
      "cell_type": "code",
      "execution_count": 104,
      "id": "4655aa58-6368-49af-ad14-7b657b121bd9",
      "metadata": {
        "colab": {
          "base_uri": "https://localhost:8080/"
        },
        "id": "4655aa58-6368-49af-ad14-7b657b121bd9",
        "outputId": "81f5c42b-c28b-4607-ed1c-f42eb2999d25"
      },
      "outputs": [
        {
          "output_type": "stream",
          "name": "stdout",
          "text": [
            "(400, 40, 40, 1)\n",
            "640000\n"
          ]
        }
      ],
      "source": [
        "print(x_train.shape)\n",
        "print(x_train.size)"
      ]
    },
    {
      "cell_type": "code",
      "execution_count": 105,
      "id": "3e2acdee-05b7-430d-9385-b7909513a1e6",
      "metadata": {
        "colab": {
          "base_uri": "https://localhost:8080/"
        },
        "id": "3e2acdee-05b7-430d-9385-b7909513a1e6",
        "outputId": "bcdc2eb5-d958-4126-8185-5fcaebdb6c8d"
      },
      "outputs": [
        {
          "output_type": "stream",
          "name": "stdout",
          "text": [
            "(100, 40, 40, 1)\n",
            "160000\n"
          ]
        }
      ],
      "source": [
        "print(x_test.shape)\n",
        "print(x_test.size)"
      ]
    },
    {
      "cell_type": "code",
      "source": [
        "x_train = x_train.reshape(-1, 40, 40, 1)\n",
        "x_test = x_test.reshape(-1, 40, 40, 1)"
      ],
      "metadata": {
        "id": "PUR0vqYorlae"
      },
      "id": "PUR0vqYorlae",
      "execution_count": 106,
      "outputs": []
    },
    {
      "cell_type": "code",
      "source": [
        "x_train.shape"
      ],
      "metadata": {
        "colab": {
          "base_uri": "https://localhost:8080/"
        },
        "id": "N3U-LoDCrnuK",
        "outputId": "a6f75171-7b33-45e3-996d-0d99d3eed9cb"
      },
      "id": "N3U-LoDCrnuK",
      "execution_count": 107,
      "outputs": [
        {
          "output_type": "execute_result",
          "data": {
            "text/plain": [
              "(400, 40, 40, 1)"
            ]
          },
          "metadata": {},
          "execution_count": 107
        }
      ]
    },
    {
      "cell_type": "markdown",
      "source": [
        "### Preview of our data"
      ],
      "metadata": {
        "id": "2GeQm5sNI5Y_"
      },
      "id": "2GeQm5sNI5Y_"
    },
    {
      "cell_type": "code",
      "execution_count": 108,
      "id": "a7cd525e-454d-4c94-930d-7a2426d94f6d",
      "metadata": {
        "colab": {
          "base_uri": "https://localhost:8080/",
          "height": 359
        },
        "id": "a7cd525e-454d-4c94-930d-7a2426d94f6d",
        "outputId": "a80a2988-18d0-42ee-b7dd-7ea41c9293a4"
      },
      "outputs": [
        {
          "output_type": "display_data",
          "data": {
            "text/plain": [
              "<Figure size 1000x1000 with 10 Axes>"
            ],
            "image/png": "[encoded data removed]"
          },
          "metadata": {}
        }
      ],
      "source": [
        "f, ax = plt.subplots(2,5)\n",
        "f.set_size_inches(10, 10)\n",
        "k = 0\n",
        "for i in range(2):\n",
        "    for j in range(5):\n",
        "        # Ensure the image data is reshaped and of the correct data type\n",
        "        ax[i,j].imshow(x_train[k].reshape(40, 40).astype(np.float32) , cmap = \"gray\")\n",
        "        k += 1\n",
        "    plt.tight_layout()"
      ]
    },
    {
      "cell_type": "code",
      "source": [
        "x_train.shape"
      ],
      "metadata": {
        "colab": {
          "base_uri": "https://localhost:8080/"
        },
        "id": "70X7B0Qdr1k-",
        "outputId": "873a9100-1dff-473b-ea47-168fe619f86c"
      },
      "id": "70X7B0Qdr1k-",
      "execution_count": 109,
      "outputs": [
        {
          "output_type": "execute_result",
          "data": {
            "text/plain": [
              "(400, 40, 40, 1)"
            ]
          },
          "metadata": {},
          "execution_count": 109
        }
      ]
    },
    {
      "cell_type": "code",
      "source": [
        "y_train.shape"
      ],
      "metadata": {
        "colab": {
          "base_uri": "https://localhost:8080/"
        },
        "id": "QxcxjEcir3bI",
        "outputId": "7b852b79-22f9-45ae-88cf-80e66f6c8304"
      },
      "id": "QxcxjEcir3bI",
      "execution_count": 110,
      "outputs": [
        {
          "output_type": "execute_result",
          "data": {
            "text/plain": [
              "(400, 5)"
            ]
          },
          "metadata": {},
          "execution_count": 110
        }
      ]
    },
    {
      "cell_type": "markdown",
      "source": [
        "## **Step 5:** Model Development"
      ],
      "metadata": {
        "id": "Hm8XnZEtaPoh"
      },
      "id": "Hm8XnZEtaPoh"
    },
    {
      "cell_type": "markdown",
      "source": [
        "### Model Development"
      ],
      "metadata": {
        "id": "giKC5uiwI_ds"
      },
      "id": "giKC5uiwI_ds"
    },
    {
      "cell_type": "code",
      "source": [
        "# Define your model\n",
        "model = Sequential([\n",
        "    Conv2D(65, kernel_size=(3, 3), activation='relu', input_shape=(40, 40, 1)),\n",
        "    MaxPooling2D(pool_size=(2, 2)),\n",
        "    Conv2D(40, kernel_size=(3, 3), activation='relu'),\n",
        "    Dropout(0.25),\n",
        "    MaxPooling2D(pool_size=(2, 2)),\n",
        "    Conv2D(25, kernel_size=(3, 3), activation='relu'),\n",
        "    MaxPooling2D(pool_size=(2, 2)),\n",
        "    Flatten(),\n",
        "    Dense(256, activation='relu'),\n",
        "    Dropout(0.5),\n",
        "    Dense(5, activation='softmax')  # for 5 classes\n",
        "])"
      ],
      "metadata": {
        "id": "X3LheybVr-8D"
      },
      "id": "X3LheybVr-8D",
      "execution_count": 111,
      "outputs": []
    },
    {
      "cell_type": "code",
      "source": [
        "# Compile the model\n",
        "model.compile(optimizer=Adam(), loss='categorical_crossentropy', metrics=['accuracy'])"
      ],
      "metadata": {
        "id": "3um4cTytsCRl"
      },
      "id": "3um4cTytsCRl",
      "execution_count": 112,
      "outputs": []
    },
    {
      "cell_type": "code",
      "source": [
        "# Print model summary\n",
        "print(model.summary())"
      ],
      "metadata": {
        "colab": {
          "base_uri": "https://localhost:8080/"
        },
        "id": "yJldrV7UsF3Z",
        "outputId": "dc7f874b-7f60-4cb1-d736-a569f7a832da"
      },
      "id": "yJldrV7UsF3Z",
      "execution_count": 113,
      "outputs": [
        {
          "output_type": "stream",
          "name": "stdout",
          "text": [
            "Model: \"sequential_2\"\n",
            "_________________________________________________________________\n",
            " Layer (type)                Output Shape              Param #   \n",
            "=================================================================\n",
            " conv2d_6 (Conv2D)           (None, 38, 38, 65)        650       \n",
            "                                                                 \n",
            " max_pooling2d_6 (MaxPoolin  (None, 19, 19, 65)        0         \n",
            " g2D)                                                            \n",
            "                                                                 \n",
            " conv2d_7 (Conv2D)           (None, 17, 17, 40)        23440     \n",
            "                                                                 \n",
            " dropout_4 (Dropout)         (None, 17, 17, 40)        0         \n",
            "                                                                 \n",
            " max_pooling2d_7 (MaxPoolin  (None, 8, 8, 40)          0         \n",
            " g2D)                                                            \n",
            "                                                                 \n",
            " conv2d_8 (Conv2D)           (None, 6, 6, 25)          9025      \n",
            "                                                                 \n",
            " max_pooling2d_8 (MaxPoolin  (None, 3, 3, 25)          0         \n",
            " g2D)                                                            \n",
            "                                                                 \n",
            " flatten_2 (Flatten)         (None, 225)               0         \n",
            "                                                                 \n",
            " dense_4 (Dense)             (None, 256)               57856     \n",
            "                                                                 \n",
            " dropout_5 (Dropout)         (None, 256)               0         \n",
            "                                                                 \n",
            " dense_5 (Dense)             (None, 5)                 1285      \n",
            "                                                                 \n",
            "=================================================================\n",
            "Total params: 92256 (360.38 KB)\n",
            "Trainable params: 92256 (360.38 KB)\n",
            "Non-trainable params: 0 (0.00 Byte)\n",
            "_________________________________________________________________\n",
            "None\n"
          ]
        }
      ]
    },
    {
      "cell_type": "code",
      "source": [
        "y_train.shape"
      ],
      "metadata": {
        "colab": {
          "base_uri": "https://localhost:8080/"
        },
        "id": "EtxOFB9ysIhU",
        "outputId": "0469257c-1525-4391-d5c5-fa6d56f1dfbc"
      },
      "id": "EtxOFB9ysIhU",
      "execution_count": 114,
      "outputs": [
        {
          "output_type": "execute_result",
          "data": {
            "text/plain": [
              "(400, 5)"
            ]
          },
          "metadata": {},
          "execution_count": 114
        }
      ]
    },
    {
      "cell_type": "code",
      "execution_count": 115,
      "id": "f7f1751d-e867-4514-904d-3f03001fae76",
      "metadata": {
        "id": "f7f1751d-e867-4514-904d-3f03001fae76"
      },
      "outputs": [],
      "source": [
        "# Initialize ImageDataGenerator\n",
        "datagen = ImageDataGenerator(\n",
        "    featurewise_center=False,\n",
        "    samplewise_center=False,\n",
        "    featurewise_std_normalization=False,\n",
        "    samplewise_std_normalization=False,\n",
        "    zca_whitening=False,\n",
        "    rotation_range=10,\n",
        "    zoom_range=0.1,\n",
        "    width_shift_range=0.1,\n",
        "    height_shift_range=0.1,\n",
        "    horizontal_flip=False,\n",
        "    vertical_flip=False\n",
        ")"
      ]
    },
    {
      "cell_type": "markdown",
      "source": [
        "### Training The Model"
      ],
      "metadata": {
        "id": "YIe2PNNQR6KK"
      },
      "id": "YIe2PNNQR6KK"
    },
    {
      "cell_type": "markdown",
      "source": [
        "This will slightly reduce the learning_rate_while developing the ML model for increasing the accuracy."
      ],
      "metadata": {
        "id": "ENp0VVX9JfJr"
      },
      "id": "ENp0VVX9JfJr"
    },
    {
      "cell_type": "code",
      "execution_count": 116,
      "id": "e709486b-1e6a-4c86-a0ac-5cf9c1c019ee",
      "metadata": {
        "id": "e709486b-1e6a-4c86-a0ac-5cf9c1c019ee"
      },
      "outputs": [],
      "source": [
        "learning_rate_reduction = ReduceLROnPlateau(monitor='val_accuracy',\n",
        "                                            patience=2,\n",
        "                                            verbose=1,\n",
        "                                            factor=0.5,\n",
        "                                            min_lr=0.00001)"
      ]
    },
    {
      "cell_type": "code",
      "source": [
        "# Now fitting the model\n",
        "history = model.fit(datagen.flow(x_train, y_train, batch_size=128),\n",
        "                    steps_per_epoch=len(x_train) / 128,\n",
        "                    epochs=20,\n",
        "                    validation_data=(x_test, y_test),\n",
        "                    callbacks=[learning_rate_reduction])"
      ],
      "metadata": {
        "colab": {
          "base_uri": "https://localhost:8080/"
        },
        "id": "0DO5Y9-fpvhi",
        "outputId": "cec64821-df1b-43ab-b08a-157885850e0a"
      },
      "id": "0DO5Y9-fpvhi",
      "execution_count": 117,
      "outputs": [
        {
          "output_type": "stream",
          "name": "stdout",
          "text": [
            "Epoch 1/20\n",
            "3/3 [==============================] - 3s 188ms/step - loss: 1.5625 - accuracy: 0.3000 - val_loss: 1.4657 - val_accuracy: 0.3800 - lr: 0.0010\n",
            "Epoch 2/20\n",
            "3/3 [==============================] - 0s 102ms/step - loss: 1.3949 - accuracy: 0.3925 - val_loss: 1.2365 - val_accuracy: 0.3800 - lr: 0.0010\n",
            "Epoch 3/20\n",
            "3/3 [==============================] - 0s 93ms/step - loss: 1.1226 - accuracy: 0.5600 - val_loss: 0.9401 - val_accuracy: 0.7800 - lr: 0.0010\n",
            "Epoch 4/20\n",
            "3/3 [==============================] - 0s 82ms/step - loss: 0.9229 - accuracy: 0.6600 - val_loss: 0.6642 - val_accuracy: 0.9300 - lr: 0.0010\n",
            "Epoch 5/20\n",
            "3/3 [==============================] - 0s 105ms/step - loss: 0.6948 - accuracy: 0.7600 - val_loss: 0.4280 - val_accuracy: 0.9600 - lr: 0.0010\n",
            "Epoch 6/20\n",
            "3/3 [==============================] - 0s 78ms/step - loss: 0.4649 - accuracy: 0.8725 - val_loss: 0.2543 - val_accuracy: 0.9800 - lr: 0.0010\n",
            "Epoch 7/20\n",
            "3/3 [==============================] - 0s 126ms/step - loss: 0.3647 - accuracy: 0.8850 - val_loss: 0.1498 - val_accuracy: 0.9800 - lr: 0.0010\n",
            "Epoch 8/20\n",
            "4/3 [======================================] - ETA: 0s - loss: 0.3646 - accuracy: 0.8875\n",
            "Epoch 8: ReduceLROnPlateau reducing learning rate to 0.0005000000237487257.\n",
            "3/3 [==============================] - 0s 79ms/step - loss: 0.3646 - accuracy: 0.8875 - val_loss: 0.0987 - val_accuracy: 0.9800 - lr: 0.0010\n",
            "Epoch 9/20\n",
            "3/3 [==============================] - 0s 88ms/step - loss: 0.3004 - accuracy: 0.8900 - val_loss: 0.1017 - val_accuracy: 0.9800 - lr: 5.0000e-04\n",
            "Epoch 10/20\n",
            "4/3 [======================================] - ETA: 0s - loss: 0.2695 - accuracy: 0.9125\n",
            "Epoch 10: ReduceLROnPlateau reducing learning rate to 0.0002500000118743628.\n",
            "3/3 [==============================] - 0s 86ms/step - loss: 0.2695 - accuracy: 0.9125 - val_loss: 0.0915 - val_accuracy: 0.9800 - lr: 5.0000e-04\n",
            "Epoch 11/20\n",
            "3/3 [==============================] - 0s 122ms/step - loss: 0.2214 - accuracy: 0.9325 - val_loss: 0.0829 - val_accuracy: 0.9800 - lr: 2.5000e-04\n",
            "Epoch 12/20\n",
            "3/3 [===========================>..] - ETA: 0s - loss: 0.2594 - accuracy: 0.9193\n",
            "Epoch 12: ReduceLROnPlateau reducing learning rate to 0.0001250000059371814.\n",
            "3/3 [==============================] - 0s 78ms/step - loss: 0.2652 - accuracy: 0.9175 - val_loss: 0.0735 - val_accuracy: 0.9800 - lr: 2.5000e-04\n",
            "Epoch 13/20\n",
            "3/3 [==============================] - 0s 80ms/step - loss: 0.1859 - accuracy: 0.9475 - val_loss: 0.0700 - val_accuracy: 0.9800 - lr: 1.2500e-04\n",
            "Epoch 14/20\n",
            "4/3 [======================================] - ETA: 0s - loss: 0.2332 - accuracy: 0.9225\n",
            "Epoch 14: ReduceLROnPlateau reducing learning rate to 6.25000029685907e-05.\n",
            "3/3 [==============================] - 0s 121ms/step - loss: 0.2332 - accuracy: 0.9225 - val_loss: 0.0683 - val_accuracy: 0.9800 - lr: 1.2500e-04\n",
            "Epoch 15/20\n",
            "3/3 [==============================] - 0s 76ms/step - loss: 0.1874 - accuracy: 0.9375 - val_loss: 0.0667 - val_accuracy: 0.9800 - lr: 6.2500e-05\n",
            "Epoch 16/20\n",
            "4/3 [======================================] - ETA: 0s - loss: 0.1674 - accuracy: 0.9425\n",
            "Epoch 16: ReduceLROnPlateau reducing learning rate to 3.125000148429535e-05.\n",
            "3/3 [==============================] - 0s 82ms/step - loss: 0.1674 - accuracy: 0.9425 - val_loss: 0.0647 - val_accuracy: 0.9800 - lr: 6.2500e-05\n",
            "Epoch 17/20\n",
            "3/3 [==============================] - 0s 86ms/step - loss: 0.2040 - accuracy: 0.9275 - val_loss: 0.0636 - val_accuracy: 0.9800 - lr: 3.1250e-05\n",
            "Epoch 18/20\n",
            "4/3 [======================================] - ETA: 0s - loss: 0.2490 - accuracy: 0.9225\n",
            "Epoch 18: ReduceLROnPlateau reducing learning rate to 1.5625000742147677e-05.\n",
            "3/3 [==============================] - 0s 99ms/step - loss: 0.2490 - accuracy: 0.9225 - val_loss: 0.0625 - val_accuracy: 0.9800 - lr: 3.1250e-05\n",
            "Epoch 19/20\n",
            "3/3 [==============================] - 0s 75ms/step - loss: 0.1802 - accuracy: 0.9325 - val_loss: 0.0621 - val_accuracy: 0.9800 - lr: 1.5625e-05\n",
            "Epoch 20/20\n",
            "4/3 [======================================] - ETA: 0s - loss: 0.1850 - accuracy: 0.9400\n",
            "Epoch 20: ReduceLROnPlateau reducing learning rate to 1e-05.\n",
            "3/3 [==============================] - 0s 88ms/step - loss: 0.1850 - accuracy: 0.9400 - val_loss: 0.0619 - val_accuracy: 0.9800 - lr: 1.5625e-05\n"
          ]
        }
      ]
    },
    {
      "cell_type": "markdown",
      "source": [
        "### Model evaluation"
      ],
      "metadata": {
        "id": "wARxlWKqJwrj"
      },
      "id": "wARxlWKqJwrj"
    },
    {
      "cell_type": "code",
      "execution_count": 118,
      "id": "5150012d-8862-447f-b7ea-407334e5f9e7",
      "metadata": {
        "id": "5150012d-8862-447f-b7ea-407334e5f9e7",
        "colab": {
          "base_uri": "https://localhost:8080/"
        },
        "outputId": "3b265742-b749-4b1c-ae9e-686c76e97936"
      },
      "outputs": [
        {
          "output_type": "stream",
          "name": "stdout",
          "text": [
            "4/4 [==============================] - 0s 5ms/step - loss: 0.0619 - accuracy: 0.9800\n",
            "Accuracy of the model is - 98.00%\n"
          ]
        }
      ],
      "source": [
        "# Evaluate the model\n",
        "accuracy = model.evaluate(x_test, y_test)[1]\n",
        "print(\"Accuracy of the model is - {:.2f}%\".format(accuracy * 100))"
      ]
    },
    {
      "cell_type": "markdown",
      "source": [
        "This will generate a Training & Validation Accuracy and a Testing Accuracy & Loss graph for visualising the accuracy as per epochs to check for over fitting."
      ],
      "metadata": {
        "id": "Wp0z2HB-J3Bz"
      },
      "id": "Wp0z2HB-J3Bz"
    },
    {
      "cell_type": "code",
      "execution_count": 119,
      "id": "9ac625aa-f072-4a76-a632-3e3b0d54910a",
      "metadata": {
        "id": "9ac625aa-f072-4a76-a632-3e3b0d54910a",
        "colab": {
          "base_uri": "https://localhost:8080/",
          "height": 400
        },
        "outputId": "0e576f89-a0d4-4de1-b14e-721a57acdf30"
      },
      "outputs": [
        {
          "output_type": "display_data",
          "data": {
            "text/plain": [
              "<Figure size 1600x900 with 2 Axes>"
            ],
            "image/png": "[encoded data removed]"
          },
          "metadata": {}
        }
      ],
      "source": [
        "epochs = [i for i in range(20)]\n",
        "fig , ax = plt.subplots(1,2)\n",
        "train_acc = history.history['accuracy']\n",
        "train_loss = history.history['loss']\n",
        "val_acc = history.history['val_accuracy']\n",
        "val_loss = history.history['val_loss']\n",
        "fig.set_size_inches(16,9)\n",
        "\n",
        "ax[0].plot(epochs , train_acc , 'go-' , label = 'Training Accuracy')\n",
        "ax[0].plot(epochs , val_acc , 'ro-' , label = 'Testing Accuracy')\n",
        "ax[0].set_title('Training & Validation Accuracy')\n",
        "ax[0].legend()\n",
        "ax[0].set_xlabel(\"Epochs\")\n",
        "ax[0].set_ylabel(\"Accuracy\")\n",
        "\n",
        "ax[1].plot(epochs , train_loss , 'g-o' , label = 'Training Loss')\n",
        "ax[1].plot(epochs , val_loss , 'r-o' , label = 'Testing Loss')\n",
        "ax[1].set_title('Testing Accuracy & Loss')\n",
        "ax[1].legend()\n",
        "ax[1].set_xlabel(\"Epochs\")\n",
        "ax[1].set_ylabel(\"Loss\")\n",
        "plt.show()"
      ]
    },
    {
      "cell_type": "code",
      "execution_count": 120,
      "id": "a3b9ab36-0dfa-43f2-8fa9-d5612c789e80",
      "metadata": {
        "id": "a3b9ab36-0dfa-43f2-8fa9-d5612c789e80",
        "colab": {
          "base_uri": "https://localhost:8080/"
        },
        "outputId": "0fe03ac4-056d-423b-8adf-c42c018ba03d"
      },
      "outputs": [
        {
          "output_type": "stream",
          "name": "stdout",
          "text": [
            "4/4 [==============================] - 0s 3ms/step\n"
          ]
        },
        {
          "output_type": "execute_result",
          "data": {
            "text/plain": [
              "array([3, 4, 3, 1, 1])"
            ]
          },
          "metadata": {},
          "execution_count": 120
        }
      ],
      "source": [
        "# Predicting the first five test data\n",
        "preds = model.predict(x_test)\n",
        "predictions = np.argmax(preds, axis=1)\n",
        "for i in range(len(predictions)):\n",
        "    if(predictions[i] >= 9):\n",
        "        predictions[i] += 1\n",
        "predictions[:5]"
      ]
    },
    {
      "cell_type": "markdown",
      "source": [
        "Now model is saved for our further use"
      ],
      "metadata": {
        "id": "jOpgNUW8KnMg"
      },
      "id": "jOpgNUW8KnMg"
    },
    {
      "cell_type": "code",
      "execution_count": 121,
      "id": "804ae0d9-9783-432b-8548-87952cfecbec",
      "metadata": {
        "id": "804ae0d9-9783-432b-8548-87952cfecbec",
        "colab": {
          "base_uri": "https://localhost:8080/"
        },
        "outputId": "66d06cef-5bf0-458f-99a7-368b844ba5d1"
      },
      "outputs": [
        {
          "output_type": "stream",
          "name": "stderr",
          "text": [
            "/usr/local/lib/python3.10/dist-packages/keras/src/engine/training.py:3103: UserWarning: You are saving your model as an HDF5 file via `model.save()`. This file format is considered legacy. We recommend using instead the native Keras format, e.g. `model.save('my_model.keras')`.\n",
            "  saving_api.save_model(\n"
          ]
        }
      ],
      "source": [
        "# Save the model\n",
        "model.save('sign_language_model.h5')"
      ]
    },
    {
      "cell_type": "markdown",
      "source": [
        "## **Step 6:** Deployment\n"
      ],
      "metadata": {
        "id": "CyQWzM7nO4Fa"
      },
      "id": "CyQWzM7nO4Fa"
    },
    {
      "cell_type": "markdown",
      "source": [
        "### System commands"
      ],
      "metadata": {
        "id": "pfATzd5_UaZn"
      },
      "id": "pfATzd5_UaZn"
    },
    {
      "cell_type": "code",
      "source": [
        "!sudo apt-get install espeak"
      ],
      "metadata": {
        "id": "cHhBY0f4T1eY",
        "colab": {
          "base_uri": "https://localhost:8080/"
        },
        "outputId": "7852746b-0092-45dc-ad39-63146bf88f7c"
      },
      "id": "cHhBY0f4T1eY",
      "execution_count": 122,
      "outputs": [
        {
          "output_type": "stream",
          "name": "stdout",
          "text": [
            "Reading package lists... Done\n",
            "Building dependency tree... Done\n",
            "Reading state information... Done\n",
            "The following additional packages will be installed:\n",
            "  espeak-data libespeak1 libportaudio2 libsonic0\n",
            "The following NEW packages will be installed:\n",
            "  espeak espeak-data libespeak1 libportaudio2 libsonic0\n",
            "0 upgraded, 5 newly installed, 0 to remove and 45 not upgraded.\n",
            "Need to get 1,382 kB of archives.\n",
            "After this operation, 3,178 kB of additional disk space will be used.\n",
            "Get:1 http://archive.ubuntu.com/ubuntu jammy/universe amd64 libportaudio2 amd64 19.6.0-1.1 [65.3 kB]\n",
            "Get:2 http://archive.ubuntu.com/ubuntu jammy/main amd64 libsonic0 amd64 0.2.0-11build1 [10.3 kB]\n",
            "Get:3 http://archive.ubuntu.com/ubuntu jammy/universe amd64 espeak-data amd64 1.48.15+dfsg-3 [1,085 kB]\n",
            "Get:4 http://archive.ubuntu.com/ubuntu jammy/universe amd64 libespeak1 amd64 1.48.15+dfsg-3 [156 kB]\n",
            "Get:5 http://archive.ubuntu.com/ubuntu jammy/universe amd64 espeak amd64 1.48.15+dfsg-3 [64.2 kB]\n",
            "Fetched 1,382 kB in 0s (3,998 kB/s)\n",
            "debconf: unable to initialize frontend: Dialog\n",
            "debconf: (No usable dialog-like program is installed, so the dialog based frontend cannot be used. at /usr/share/perl5/Debconf/FrontEnd/Dialog.pm line 78, <> line 5.)\n",
            "debconf: falling back to frontend: Readline\n",
            "debconf: unable to initialize frontend: Readline\n",
            "debconf: (This frontend requires a controlling tty.)\n",
            "debconf: falling back to frontend: Teletype\n",
            "dpkg-preconfigure: unable to re-open stdin: \n",
            "Selecting previously unselected package libportaudio2:amd64.\n",
            "(Reading database ... 123589 files and directories currently installed.)\n",
            "Preparing to unpack .../libportaudio2_19.6.0-1.1_amd64.deb ...\n",
            "Unpacking libportaudio2:amd64 (19.6.0-1.1) ...\n",
            "Selecting previously unselected package libsonic0:amd64.\n",
            "Preparing to unpack .../libsonic0_0.2.0-11build1_amd64.deb ...\n",
            "Unpacking libsonic0:amd64 (0.2.0-11build1) ...\n",
            "Selecting previously unselected package espeak-data:amd64.\n",
            "Preparing to unpack .../espeak-data_1.48.15+dfsg-3_amd64.deb ...\n",
            "Unpacking espeak-data:amd64 (1.48.15+dfsg-3) ...\n",
            "Selecting previously unselected package libespeak1:amd64.\n",
            "Preparing to unpack .../libespeak1_1.48.15+dfsg-3_amd64.deb ...\n",
            "Unpacking libespeak1:amd64 (1.48.15+dfsg-3) ...\n",
            "Selecting previously unselected package espeak.\n",
            "Preparing to unpack .../espeak_1.48.15+dfsg-3_amd64.deb ...\n",
            "Unpacking espeak (1.48.15+dfsg-3) ...\n",
            "Setting up libportaudio2:amd64 (19.6.0-1.1) ...\n",
            "Setting up libsonic0:amd64 (0.2.0-11build1) ...\n",
            "Setting up espeak-data:amd64 (1.48.15+dfsg-3) ...\n",
            "Setting up libespeak1:amd64 (1.48.15+dfsg-3) ...\n",
            "Setting up espeak (1.48.15+dfsg-3) ...\n",
            "Processing triggers for man-db (2.10.2-1) ...\n",
            "Processing triggers for libc-bin (2.35-0ubuntu3.4) ...\n",
            "/sbin/ldconfig.real: /usr/local/lib/libtbb.so.12 is not a symbolic link\n",
            "\n",
            "/sbin/ldconfig.real: /usr/local/lib/libtbbbind_2_0.so.3 is not a symbolic link\n",
            "\n",
            "/sbin/ldconfig.real: /usr/local/lib/libtbbmalloc.so.2 is not a symbolic link\n",
            "\n",
            "/sbin/ldconfig.real: /usr/local/lib/libtbbbind.so.3 is not a symbolic link\n",
            "\n",
            "/sbin/ldconfig.real: /usr/local/lib/libtbbmalloc_proxy.so.2 is not a symbolic link\n",
            "\n",
            "/sbin/ldconfig.real: /usr/local/lib/libtbbbind_2_5.so.3 is not a symbolic link\n",
            "\n"
          ]
        }
      ]
    },
    {
      "cell_type": "code",
      "source": [
        "!ls /usr/lib | grep libespeak"
      ],
      "metadata": {
        "id": "NRl3AGcTT9Mi"
      },
      "id": "NRl3AGcTT9Mi",
      "execution_count": 123,
      "outputs": []
    },
    {
      "cell_type": "code",
      "source": [
        "!sudo apt-get install alsa-utils"
      ],
      "metadata": {
        "id": "T4FQ11RDT9HG",
        "colab": {
          "base_uri": "https://localhost:8080/"
        },
        "outputId": "ec460e5a-34db-47d0-c514-c1981ecafc3b"
      },
      "id": "T4FQ11RDT9HG",
      "execution_count": 124,
      "outputs": [
        {
          "output_type": "stream",
          "name": "stdout",
          "text": [
            "Reading package lists... Done\n",
            "Building dependency tree... Done\n",
            "Reading state information... Done\n",
            "The following additional packages will be installed:\n",
            "  libatopology2 libfftw3-single3\n",
            "Suggested packages:\n",
            "  dialog libfftw3-bin libfftw3-dev\n",
            "The following NEW packages will be installed:\n",
            "  alsa-utils libatopology2 libfftw3-single3\n",
            "0 upgraded, 3 newly installed, 0 to remove and 45 not upgraded.\n",
            "Need to get 2,028 kB of archives.\n",
            "After this operation, 5,142 kB of additional disk space will be used.\n",
            "Get:1 http://archive.ubuntu.com/ubuntu jammy/main amd64 libatopology2 amd64 1.2.6.1-1ubuntu1 [51.3 kB]\n",
            "Get:2 http://archive.ubuntu.com/ubuntu jammy/main amd64 libfftw3-single3 amd64 3.3.8-2ubuntu8 [800 kB]\n",
            "Get:3 http://archive.ubuntu.com/ubuntu jammy/main amd64 alsa-utils amd64 1.2.6-1ubuntu1 [1,177 kB]\n",
            "Fetched 2,028 kB in 0s (7,936 kB/s)\n",
            "debconf: unable to initialize frontend: Dialog\n",
            "debconf: (No usable dialog-like program is installed, so the dialog based frontend cannot be used. at /usr/share/perl5/Debconf/FrontEnd/Dialog.pm line 78, <> line 3.)\n",
            "debconf: falling back to frontend: Readline\n",
            "debconf: unable to initialize frontend: Readline\n",
            "debconf: (This frontend requires a controlling tty.)\n",
            "debconf: falling back to frontend: Teletype\n",
            "dpkg-preconfigure: unable to re-open stdin: \n",
            "Selecting previously unselected package libatopology2:amd64.\n",
            "(Reading database ... 123919 files and directories currently installed.)\n",
            "Preparing to unpack .../libatopology2_1.2.6.1-1ubuntu1_amd64.deb ...\n",
            "Unpacking libatopology2:amd64 (1.2.6.1-1ubuntu1) ...\n",
            "Selecting previously unselected package libfftw3-single3:amd64.\n",
            "Preparing to unpack .../libfftw3-single3_3.3.8-2ubuntu8_amd64.deb ...\n",
            "Unpacking libfftw3-single3:amd64 (3.3.8-2ubuntu8) ...\n",
            "Selecting previously unselected package alsa-utils.\n",
            "Preparing to unpack .../alsa-utils_1.2.6-1ubuntu1_amd64.deb ...\n",
            "Unpacking alsa-utils (1.2.6-1ubuntu1) ...\n",
            "Setting up libfftw3-single3:amd64 (3.3.8-2ubuntu8) ...\n",
            "Setting up libatopology2:amd64 (1.2.6.1-1ubuntu1) ...\n",
            "Setting up alsa-utils (1.2.6-1ubuntu1) ...\n",
            "Processing triggers for man-db (2.10.2-1) ...\n",
            "Processing triggers for libc-bin (2.35-0ubuntu3.4) ...\n",
            "/sbin/ldconfig.real: /usr/local/lib/libtbb.so.12 is not a symbolic link\n",
            "\n",
            "/sbin/ldconfig.real: /usr/local/lib/libtbbbind_2_0.so.3 is not a symbolic link\n",
            "\n",
            "/sbin/ldconfig.real: /usr/local/lib/libtbbmalloc.so.2 is not a symbolic link\n",
            "\n",
            "/sbin/ldconfig.real: /usr/local/lib/libtbbbind.so.3 is not a symbolic link\n",
            "\n",
            "/sbin/ldconfig.real: /usr/local/lib/libtbbmalloc_proxy.so.2 is not a symbolic link\n",
            "\n",
            "/sbin/ldconfig.real: /usr/local/lib/libtbbbind_2_5.so.3 is not a symbolic link\n",
            "\n"
          ]
        }
      ]
    },
    {
      "cell_type": "code",
      "source": [
        "!pip install opencv-python tensorflow pyttsx"
      ],
      "metadata": {
        "id": "6-tWQ3z_T9Du",
        "colab": {
          "base_uri": "https://localhost:8080/"
        },
        "outputId": "e4c954a6-de43-4a6e-8c53-b2e151acbe77"
      },
      "id": "6-tWQ3z_T9Du",
      "execution_count": 125,
      "outputs": [
        {
          "output_type": "stream",
          "name": "stdout",
          "text": [
            "Requirement already satisfied: opencv-python in /usr/local/lib/python3.10/dist-packages (4.8.0.76)\n",
            "Requirement already satisfied: tensorflow in /usr/local/lib/python3.10/dist-packages (2.15.0)\n",
            "Collecting pyttsx\n",
            "  Downloading pyttsx-1.1.tar.gz (23 kB)\n",
            "  Preparing metadata (setup.py) ... \u001b[?25l\u001b[?25hdone\n",
            "Requirement already satisfied: numpy>=1.21.2 in /usr/local/lib/python3.10/dist-packages (from opencv-python) (1.25.2)\n",
            "Requirement already satisfied: absl-py>=1.0.0 in /usr/local/lib/python3.10/dist-packages (from tensorflow) (1.4.0)\n",
            "Requirement already satisfied: astunparse>=1.6.0 in /usr/local/lib/python3.10/dist-packages (from tensorflow) (1.6.3)\n",
            "Requirement already satisfied: flatbuffers>=23.5.26 in /usr/local/lib/python3.10/dist-packages (from tensorflow) (24.3.25)\n",
            "Requirement already satisfied: gast!=0.5.0,!=0.5.1,!=0.5.2,>=0.2.1 in /usr/local/lib/python3.10/dist-packages (from tensorflow) (0.6.0)\n",
            "Requirement already satisfied: google-pasta>=0.1.1 in /usr/local/lib/python3.10/dist-packages (from tensorflow) (0.2.0)\n",
            "Requirement already satisfied: h5py>=2.9.0 in /usr/local/lib/python3.10/dist-packages (from tensorflow) (3.9.0)\n",
            "Requirement already satisfied: libclang>=13.0.0 in /usr/local/lib/python3.10/dist-packages (from tensorflow) (18.1.1)\n",
            "Requirement already satisfied: ml-dtypes~=0.2.0 in /usr/local/lib/python3.10/dist-packages (from tensorflow) (0.2.0)\n",
            "Requirement already satisfied: opt-einsum>=2.3.2 in /usr/local/lib/python3.10/dist-packages (from tensorflow) (3.3.0)\n",
            "Requirement already satisfied: packaging in /usr/local/lib/python3.10/dist-packages (from tensorflow) (24.1)\n",
            "Requirement already satisfied: protobuf!=4.21.0,!=4.21.1,!=4.21.2,!=4.21.3,!=4.21.4,!=4.21.5,<5.0.0dev,>=3.20.3 in /usr/local/lib/python3.10/dist-packages (from tensorflow) (3.20.3)\n",
            "Requirement already satisfied: setuptools in /usr/local/lib/python3.10/dist-packages (from tensorflow) (67.7.2)\n",
            "Requirement already satisfied: six>=1.12.0 in /usr/local/lib/python3.10/dist-packages (from tensorflow) (1.16.0)\n",
            "Requirement already satisfied: termcolor>=1.1.0 in /usr/local/lib/python3.10/dist-packages (from tensorflow) (2.4.0)\n",
            "Requirement already satisfied: typing-extensions>=3.6.6 in /usr/local/lib/python3.10/dist-packages (from tensorflow) (4.12.2)\n",
            "Requirement already satisfied: wrapt<1.15,>=1.11.0 in /usr/local/lib/python3.10/dist-packages (from tensorflow) (1.14.1)\n",
            "Requirement already satisfied: tensorflow-io-gcs-filesystem>=0.23.1 in /usr/local/lib/python3.10/dist-packages (from tensorflow) (0.37.1)\n",
            "Requirement already satisfied: grpcio<2.0,>=1.24.3 in /usr/local/lib/python3.10/dist-packages (from tensorflow) (1.64.1)\n",
            "Requirement already satisfied: tensorboard<2.16,>=2.15 in /usr/local/lib/python3.10/dist-packages (from tensorflow) (2.15.2)\n",
            "Requirement already satisfied: tensorflow-estimator<2.16,>=2.15.0 in /usr/local/lib/python3.10/dist-packages (from tensorflow) (2.15.0)\n",
            "Requirement already satisfied: keras<2.16,>=2.15.0 in /usr/local/lib/python3.10/dist-packages (from tensorflow) (2.15.0)\n",
            "Requirement already satisfied: wheel<1.0,>=0.23.0 in /usr/local/lib/python3.10/dist-packages (from astunparse>=1.6.0->tensorflow) (0.43.0)\n",
            "Requirement already satisfied: google-auth<3,>=1.6.3 in /usr/local/lib/python3.10/dist-packages (from tensorboard<2.16,>=2.15->tensorflow) (2.27.0)\n",
            "Requirement already satisfied: google-auth-oauthlib<2,>=0.5 in /usr/local/lib/python3.10/dist-packages (from tensorboard<2.16,>=2.15->tensorflow) (1.2.1)\n",
            "Requirement already satisfied: markdown>=2.6.8 in /usr/local/lib/python3.10/dist-packages (from tensorboard<2.16,>=2.15->tensorflow) (3.6)\n",
            "Requirement already satisfied: requests<3,>=2.21.0 in /usr/local/lib/python3.10/dist-packages (from tensorboard<2.16,>=2.15->tensorflow) (2.31.0)\n",
            "Requirement already satisfied: tensorboard-data-server<0.8.0,>=0.7.0 in /usr/local/lib/python3.10/dist-packages (from tensorboard<2.16,>=2.15->tensorflow) (0.7.2)\n",
            "Requirement already satisfied: werkzeug>=1.0.1 in /usr/local/lib/python3.10/dist-packages (from tensorboard<2.16,>=2.15->tensorflow) (3.0.3)\n",
            "Requirement already satisfied: cachetools<6.0,>=2.0.0 in /usr/local/lib/python3.10/dist-packages (from google-auth<3,>=1.6.3->tensorboard<2.16,>=2.15->tensorflow) (5.4.0)\n",
            "Requirement already satisfied: pyasn1-modules>=0.2.1 in /usr/local/lib/python3.10/dist-packages (from google-auth<3,>=1.6.3->tensorboard<2.16,>=2.15->tensorflow) (0.4.0)\n",
            "Requirement already satisfied: rsa<5,>=3.1.4 in /usr/local/lib/python3.10/dist-packages (from google-auth<3,>=1.6.3->tensorboard<2.16,>=2.15->tensorflow) (4.9)\n",
            "Requirement already satisfied: requests-oauthlib>=0.7.0 in /usr/local/lib/python3.10/dist-packages (from google-auth-oauthlib<2,>=0.5->tensorboard<2.16,>=2.15->tensorflow) (1.3.1)\n",
            "Requirement already satisfied: charset-normalizer<4,>=2 in /usr/local/lib/python3.10/dist-packages (from requests<3,>=2.21.0->tensorboard<2.16,>=2.15->tensorflow) (3.3.2)\n",
            "Requirement already satisfied: idna<4,>=2.5 in /usr/local/lib/python3.10/dist-packages (from requests<3,>=2.21.0->tensorboard<2.16,>=2.15->tensorflow) (3.7)\n",
            "Requirement already satisfied: urllib3<3,>=1.21.1 in /usr/local/lib/python3.10/dist-packages (from requests<3,>=2.21.0->tensorboard<2.16,>=2.15->tensorflow) (2.0.7)\n",
            "Requirement already satisfied: certifi>=2017.4.17 in /usr/local/lib/python3.10/dist-packages (from requests<3,>=2.21.0->tensorboard<2.16,>=2.15->tensorflow) (2024.7.4)\n",
            "Requirement already satisfied: MarkupSafe>=2.1.1 in /usr/local/lib/python3.10/dist-packages (from werkzeug>=1.0.1->tensorboard<2.16,>=2.15->tensorflow) (2.1.5)\n",
            "Requirement already satisfied: pyasn1<0.7.0,>=0.4.6 in /usr/local/lib/python3.10/dist-packages (from pyasn1-modules>=0.2.1->google-auth<3,>=1.6.3->tensorboard<2.16,>=2.15->tensorflow) (0.6.0)\n",
            "Requirement already satisfied: oauthlib>=3.0.0 in /usr/local/lib/python3.10/dist-packages (from requests-oauthlib>=0.7.0->google-auth-oauthlib<2,>=0.5->tensorboard<2.16,>=2.15->tensorflow) (3.2.2)\n",
            "Building wheels for collected packages: pyttsx\n",
            "  Building wheel for pyttsx (setup.py) ... \u001b[?25l\u001b[?25hdone\n",
            "  Created wheel for pyttsx: filename=pyttsx-1.1-py3-none-any.whl size=22441 sha256=6d0a253c69749e12ca78683f9958f17a4697361e445b65bec2537d8efe346f49\n",
            "  Stored in directory: /root/.cache/pip/wheels/5f/1b/16/30b2d882bd9e7c4d452c657e2127b3d7bad3a6093dae9118c7\n",
            "Successfully built pyttsx\n",
            "Installing collected packages: pyttsx\n",
            "Successfully installed pyttsx-1.1\n"
          ]
        }
      ]
    },
    {
      "cell_type": "code",
      "source": [
        "!pip install opencv-python-headless"
      ],
      "metadata": {
        "id": "oDfMKTFRlh_W",
        "colab": {
          "base_uri": "https://localhost:8080/"
        },
        "outputId": "e495ab0f-f387-484b-c530-7389d4a9517a"
      },
      "id": "oDfMKTFRlh_W",
      "execution_count": 126,
      "outputs": [
        {
          "output_type": "stream",
          "name": "stdout",
          "text": [
            "Requirement already satisfied: opencv-python-headless in /usr/local/lib/python3.10/dist-packages (4.10.0.84)\n",
            "Requirement already satisfied: numpy>=1.21.2 in /usr/local/lib/python3.10/dist-packages (from opencv-python-headless) (1.25.2)\n"
          ]
        }
      ]
    },
    {
      "cell_type": "markdown",
      "source": [
        "### Deployment of the ml model using esp32 cam\n"
      ],
      "metadata": {
        "id": "DcMjgfGHUi9c"
      },
      "id": "DcMjgfGHUi9c"
    },
    {
      "cell_type": "code",
      "source": [
        "import cv2\n",
        "import numpy as np\n",
        "import tensorflow as tf\n",
        "import pyttsx3 as ps\n",
        "import threading"
      ],
      "metadata": {
        "id": "oEISe6Egm1RC"
      },
      "id": "oEISe6Egm1RC",
      "execution_count": 127,
      "outputs": []
    },
    {
      "cell_type": "code",
      "source": [
        "# Initialize the pyttsx3 engine once to avoid multiple instances\n",
        "engine = ps.init()"
      ],
      "metadata": {
        "id": "lieUST35Sb9l"
      },
      "id": "lieUST35Sb9l",
      "execution_count": 128,
      "outputs": []
    },
    {
      "cell_type": "code",
      "source": [
        "def speak(text):\n",
        "    def speak_thread(text):\n",
        "        # Ensure the global engine is used\n",
        "        engine.say(text)\n",
        "        engine.runAndWait()\n",
        "    thread = threading.Thread(target=speak_thread, args=(text,))\n",
        "    thread.start()"
      ],
      "metadata": {
        "id": "qNnMlA3uTGkZ"
      },
      "id": "qNnMlA3uTGkZ",
      "execution_count": 129,
      "outputs": []
    },
    {
      "cell_type": "code",
      "source": [
        "# Load the TensorFlow model\n",
        "model = tf.keras.models.load_model(\"sign_language_model.h5\") # you should change these file path according to your file path"
      ],
      "metadata": {
        "id": "KodOAaLmnBEy"
      },
      "id": "KodOAaLmnBEy",
      "execution_count": 130,
      "outputs": []
    },
    {
      "cell_type": "markdown",
      "source": [
        "Run this if you want to use pc web cam for this project."
      ],
      "metadata": {
        "id": "H-igxkbvQ9A-"
      },
      "id": "H-igxkbvQ9A-"
    },
    {
      "cell_type": "code",
      "source": [
        "# Define the video capture object\n",
        "vc = cv2.VideoCapture(0)"
      ],
      "metadata": {
        "id": "Cw8ZZn_lnBCY"
      },
      "id": "Cw8ZZn_lnBCY",
      "execution_count": null,
      "outputs": []
    },
    {
      "cell_type": "markdown",
      "source": [
        "Run this if you want to use esp32 cam as a camera for this project."
      ],
      "metadata": {
        "id": "TKJc8OAeRHne"
      },
      "id": "TKJc8OAeRHne"
    },
    {
      "cell_type": "code",
      "source": [
        "# Replace with your ESP32-CAM stream URL\n",
        "stream_url = 'http://192.168.92.123:81/stream'"
      ],
      "metadata": {
        "id": "GlCcAqUbnA_Q"
      },
      "id": "GlCcAqUbnA_Q",
      "execution_count": null,
      "outputs": []
    },
    {
      "cell_type": "code",
      "source": [
        "# Open a connection to the IP camera using OpenCV VideoCapture\n",
        "vc = cv2.VideoCapture(stream_url)"
      ],
      "metadata": {
        "id": "L8Q9ee2SQ6RI"
      },
      "id": "L8Q9ee2SQ6RI",
      "execution_count": null,
      "outputs": []
    },
    {
      "cell_type": "code",
      "source": [
        "# Check if the webcam opened successfully\n",
        "if not vc.isOpened():\n",
        "    print(\"Error: Could not open webcam.\")\n",
        "    exit()"
      ],
      "metadata": {
        "id": "GyYxpsURTTC4"
      },
      "id": "GyYxpsURTTC4",
      "execution_count": null,
      "outputs": []
    },
    {
      "cell_type": "code",
      "source": [
        "# Map the predicted class to the corresponding gesture\n",
        "gestures = {\n",
        "        0: 'empty', 1: 'A', 2: 'B', 3: 'C', 4: 'D', 5: 'E',\n",
        "        6: 'F', 7: 'G', 8: 'H', 9: 'I', 10: 'J', 11: 'K',\n",
        "        12: 'L', 13: 'M', 14: 'N', 15: 'O', 16: 'P', 17: 'Q',\n",
        "        18: 'R', 19: 'S', 20: 'T', 21: 'U', 22: 'V', 23: 'W',\n",
        "        24: 'X', 25: 'Y', 26: 'Z'\n",
        "}"
      ],
      "metadata": {
        "id": "gKwiEJgtnOYO"
      },
      "id": "gKwiEJgtnOYO",
      "execution_count": null,
      "outputs": []
    },
    {
      "cell_type": "code",
      "source": [
        "# Loop until the user presses the 'q' key\n",
        "while True:\n",
        "    # Capture a frame from the webcam\n",
        "    ret, frame = vc.read()\n",
        "    if not ret:\n",
        "        print(\"Failed to capture image\")\n",
        "        break\n",
        "\n",
        "    # Convert the frame to grayscale\n",
        "    gray_frame = cv2.cvtColor(frame, cv2.COLOR_BGR2GRAY)\n",
        "\n",
        "    # Resize the frame to 40x40\n",
        "    resized_frame = cv2.resize(gray_frame, (40, 40))\n",
        "\n",
        "    # Normalize the pixel values\n",
        "    normalized_frame = resized_frame / 127.5 - 1.0\n",
        "\n",
        "    # Add a batch dimension and ensure it has the right shape\n",
        "    input_data = np.expand_dims(normalized_frame, axis=(0, -1)).astype(np.float32)\n",
        "\n",
        "    # Perform inference using the model\n",
        "    output_data = model.predict(input_data)\n",
        "\n",
        "    # Get the predicted class\n",
        "    predicted_class = np.argmax(output_data)\n",
        "\n",
        "    predicted_gesture = gestures.get(predicted_class, 'unknown')\n",
        "\n",
        "    # Print the predicted class\n",
        "    print(\"Predicted gesture:\", predicted_gesture)\n",
        "    if predicted_gesture != 'empty':\n",
        "        speak(predicted_gesture)\n",
        "\n",
        "    # Display the frame\n",
        "    cv2.imshow('Webcam_Gesture_Recognition', gray_frame)\n",
        "\n",
        "    # Press 'q' to exit\n",
        "    if cv2.waitKey(1) & 0xFF == ord('q'):\n",
        "        break\n",
        "\n",
        "# Release the video capture object\n",
        "vc.release()\n",
        "\n",
        "# Close all windows\n",
        "cv2.destroyAllWindows()\n"
      ],
      "metadata": {
        "id": "ye9kubkQnXWg"
      },
      "id": "ye9kubkQnXWg",
      "execution_count": null,
      "outputs": []
    },
    {
      "cell_type": "markdown",
      "source": [
        "## Author"
      ],
      "metadata": {
        "id": "8EtNvZONBAIS"
      },
      "id": "8EtNvZONBAIS"
    },
    {
      "cell_type": "markdown",
      "source": [
        "### Developed by Harsh Raj\n",
        "Contacts :\n",
        "- [Email](mailto:developerharshraj@gmail.com)\n",
        "- [LinkedIn](https://in.linkedin.com/in/harsh-raj-416a0b27b)\n",
        "- [GitHub](https://github.com/HarshRajTiwary)\n",
        "\n",
        "### Happy Learning"
      ],
      "metadata": {
        "id": "zbZgH_AYA78l"
      },
      "id": "zbZgH_AYA78l"
    }
  ],
  "metadata": {
    "kernelspec": {
      "display_name": "Python 3",
      "name": "python3"
    },
    "language_info": {
      "codemirror_mode": {
        "name": "ipython",
        "version": 3
      },
      "file_extension": ".py",
      "mimetype": "text/x-python",
      "name": "python",
      "nbconvert_exporter": "python",
      "pygments_lexer": "ipython3",
      "version": "3.11.9"
    },
    "colab": {
      "provenance": [],
      "gpuType": "T4"
    },
    "accelerator": "GPU"
  },
  "nbformat": 4,
  "nbformat_minor": 5
}