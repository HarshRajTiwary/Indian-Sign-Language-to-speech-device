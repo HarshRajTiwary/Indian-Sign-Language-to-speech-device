{
  "cells": [
    {
      "cell_type": "code",
      "execution_count": null,
      "id": "a305e00a-1919-4ff3-ae75-fb86a50075b7",
      "metadata": {
        "id": "a305e00a-1919-4ff3-ae75-fb86a50075b7"
      },
      "outputs": [],
      "source": [
        "import os\n",
        "import numpy as np\n",
        "import pandas as pd\n",
        "import tensorflow as tf\n",
        "from tensorflow.keras.models import Sequential\n",
        "from tensorflow.keras.layers import Conv2D, MaxPooling2D, Flatten, Dense, Dropout\n",
        "from tensorflow.keras.optimizers import Adam\n",
        "from tensorflow.keras.callbacks import ReduceLROnPlateau\n",
        "from tensorflow.keras.preprocessing.image import ImageDataGenerator\n",
        "from sklearn.preprocessing import OneHotEncoder"
      ]
    },
    {
      "cell_type": "code",
      "source": [
        "from google.colab import drive\n",
        "drive.mount('/content/drive')"
      ],
      "metadata": {
        "colab": {
          "base_uri": "https://localhost:8080/"
        },
        "id": "WP4EFgfqvpkG",
        "outputId": "ddf420c2-dc0b-43ac-f7ca-2715d3d93d0a"
      },
      "id": "WP4EFgfqvpkG",
      "execution_count": null,
      "outputs": [
        {
          "output_type": "stream",
          "name": "stdout",
          "text": [
            "Mounted at /content/drive\n"
          ]
        }
      ]
    },
    {
      "cell_type": "code",
      "execution_count": null,
      "id": "d91ebdeb-d482-49ae-a86d-e96dfff6ad73",
      "metadata": {
        "id": "d91ebdeb-d482-49ae-a86d-e96dfff6ad73"
      },
      "outputs": [],
      "source": [
        "train_df = pd.read_csv(\"/content/drive/MyDrive/Project/Indian Sign Language/csv_data_file/train.csv\")\n",
        "test_df = pd.read_csv(\"/content/drive/MyDrive/Project/Indian Sign Language/csv_data_file/test.csv\")"
      ]
    },
    {
      "cell_type": "code",
      "execution_count": null,
      "id": "413d5d1c-0103-4152-bcbc-11de33f1ddef",
      "metadata": {
        "id": "413d5d1c-0103-4152-bcbc-11de33f1ddef"
      },
      "outputs": [],
      "source": [
        "test = pd.read_csv(\"/content/drive/MyDrive/Project/Indian Sign Language/csv_data_file/test.csv\")\n",
        "y = test['label']"
      ]
    },
    {
      "cell_type": "code",
      "source": [
        "def change_label(row):\n",
        "    label = row['label']\n",
        "    # Determine weather condition\n",
        "    if label == 'a':\n",
        "        change = 1 # a\n",
        "    elif label == 'b':\n",
        "        change = 2 # b\n",
        "    elif label == 'c':\n",
        "        change = 3 # c\n",
        "    elif label == 'd':\n",
        "        change = 4 # d\n",
        "    elif label == 'empty':\n",
        "        change = 0 # empty\n",
        "\n",
        "    return change"
      ],
      "metadata": {
        "id": "EuiHSkHoL5wX"
      },
      "id": "EuiHSkHoL5wX",
      "execution_count": null,
      "outputs": []
    },
    {
      "cell_type": "code",
      "source": [
        "# Apply the function to each row of the DataFrame\n",
        "train_df['label'] = train_df.apply(change_label, axis=1)\n",
        "test_df['label'] = test_df.apply(change_label, axis=1)"
      ],
      "metadata": {
        "id": "l7pGJ9z7L_Nc"
      },
      "id": "l7pGJ9z7L_Nc",
      "execution_count": null,
      "outputs": []
    },
    {
      "cell_type": "code",
      "execution_count": null,
      "id": "3f5a1427-be96-407a-97ac-a3f3e83323c9",
      "metadata": {
        "id": "3f5a1427-be96-407a-97ac-a3f3e83323c9"
      },
      "outputs": [],
      "source": [
        "y_train = train_df['label']\n",
        "y_test = test_df['label']\n",
        "y_debug = y_train[0:10]\n",
        "del train_df['label']\n",
        "del test_df['label']"
      ]
    },
    {
      "cell_type": "code",
      "source": [
        "print(y_train)"
      ],
      "metadata": {
        "colab": {
          "base_uri": "https://localhost:8080/"
        },
        "id": "LkjBrZQFMQeF",
        "outputId": "b61b3c38-d506-4ecf-d04e-81217dc759a6"
      },
      "id": "LkjBrZQFMQeF",
      "execution_count": null,
      "outputs": [
        {
          "output_type": "stream",
          "name": "stdout",
          "text": [
            "0      1\n",
            "1      4\n",
            "2      0\n",
            "3      1\n",
            "4      2\n",
            "      ..\n",
            "441    3\n",
            "442    0\n",
            "443    0\n",
            "444    3\n",
            "445    0\n",
            "Name: label, Length: 446, dtype: int64\n"
          ]
        }
      ]
    },
    {
      "cell_type": "code",
      "source": [
        "train_df.shape"
      ],
      "metadata": {
        "colab": {
          "base_uri": "https://localhost:8080/"
        },
        "id": "PS-K7T_7MQYB",
        "outputId": "3b412e2a-1377-4f34-da39-ed6ce1c21eef"
      },
      "id": "PS-K7T_7MQYB",
      "execution_count": null,
      "outputs": [
        {
          "output_type": "execute_result",
          "data": {
            "text/plain": [
              "(446, 1600)"
            ]
          },
          "metadata": {},
          "execution_count": 10
        }
      ]
    },
    {
      "cell_type": "code",
      "execution_count": null,
      "id": "7c407bdf-8348-4526-ae09-fa5434787d54",
      "metadata": {
        "id": "7c407bdf-8348-4526-ae09-fa5434787d54"
      },
      "outputs": [],
      "source": [
        "from sklearn.preprocessing import LabelBinarizer\n",
        "label_binarizer = LabelBinarizer()\n",
        "y_train = label_binarizer.fit_transform(y_train)\n",
        "y_test = label_binarizer.fit_transform(y_test)"
      ]
    },
    {
      "cell_type": "code",
      "execution_count": null,
      "id": "a0389c80-86b7-4ccc-977f-c4368a397f34",
      "metadata": {
        "id": "a0389c80-86b7-4ccc-977f-c4368a397f34"
      },
      "outputs": [],
      "source": [
        "x_train = train_df.values\n",
        "x_test = test_df.values"
      ]
    },
    {
      "cell_type": "code",
      "execution_count": null,
      "id": "d5952c76-018c-4413-b21e-72ccf3f01509",
      "metadata": {
        "id": "d5952c76-018c-4413-b21e-72ccf3f01509"
      },
      "outputs": [],
      "source": [
        "# Convert y_train and y_test to numpy arrays if they are pandas Series\n",
        "if isinstance(y_train, pd.Series):\n",
        "    y_train = y_train.to_numpy()\n",
        "if isinstance(y_test, pd.Series):\n",
        "    y_test = y_test.to_numpy()"
      ]
    },
    {
      "cell_type": "code",
      "execution_count": null,
      "id": "691db660-ddb2-4efd-89ab-7a7a11cb17fe",
      "metadata": {
        "id": "691db660-ddb2-4efd-89ab-7a7a11cb17fe"
      },
      "outputs": [],
      "source": [
        "# One-hot encode the labels\n",
        "encoder = OneHotEncoder(sparse=False)"
      ]
    },
    {
      "cell_type": "code",
      "execution_count": null,
      "id": "c7b30940-6df6-415b-854f-399bca0db072",
      "metadata": {
        "colab": {
          "base_uri": "https://localhost:8080/"
        },
        "id": "c7b30940-6df6-415b-854f-399bca0db072",
        "outputId": "5968ffe5-f800-4d9e-a249-f03a188fec64"
      },
      "outputs": [
        {
          "output_type": "stream",
          "name": "stderr",
          "text": [
            "/usr/local/lib/python3.10/dist-packages/sklearn/preprocessing/_encoders.py:868: FutureWarning: `sparse` was renamed to `sparse_output` in version 1.2 and will be removed in 1.4. `sparse_output` is ignored unless you leave `sparse` to its default value.\n",
            "  warnings.warn(\n"
          ]
        }
      ],
      "source": [
        "# Reshape y_train and y_test for encoding\n",
        "y_train_flat = y_train.reshape(-1, 1)\n",
        "y_test_flat = y_test.reshape(-1, 1)\n",
        "\n",
        "y_train_encoded = encoder.fit_transform(y_train_flat)\n",
        "y_test_encoded = encoder.transform(y_test_flat)"
      ]
    },
    {
      "cell_type": "code",
      "execution_count": null,
      "id": "fb7312b3-0a36-40d8-8dcc-9c054d0950a5",
      "metadata": {
        "id": "fb7312b3-0a36-40d8-8dcc-9c054d0950a5"
      },
      "outputs": [],
      "source": [
        "# Reshape x_train and x_test to 4D tensors if they are not already\n",
        "if len(x_train.shape) == 2:  # If the shape is (num_samples, height*width)\n",
        "    x_train = x_train.reshape(x_train.shape[0], 40, 40, 1)\n",
        "if len(x_test.shape) == 2:  # If the shape is (num_samples, height*width)\n",
        "    x_test = x_test.reshape(x_test.shape[0], 40, 40, 1)"
      ]
    },
    {
      "cell_type": "code",
      "execution_count": null,
      "id": "781a9580-702c-429d-9094-05ba2dcc1da4",
      "metadata": {
        "colab": {
          "base_uri": "https://localhost:8080/"
        },
        "id": "781a9580-702c-429d-9094-05ba2dcc1da4",
        "outputId": "5cc86760-1d9b-4290-b712-03dad6b37faf"
      },
      "outputs": [
        {
          "output_type": "stream",
          "name": "stdout",
          "text": [
            "Shape of y_train_encoded: (2230, 2)\n",
            "Shape of y_test_encoded: (560, 2)\n",
            "Shape of x_train: (446, 40, 40, 1)\n",
            "Shape of x_test: (112, 40, 40, 1)\n"
          ]
        }
      ],
      "source": [
        "print(\"Shape of y_train_encoded:\", y_train_encoded.shape)\n",
        "print(\"Shape of y_test_encoded:\", y_test_encoded.shape)\n",
        "print(\"Shape of x_train:\", x_train.shape)\n",
        "print(\"Shape of x_test:\", x_test.shape)"
      ]
    },
    {
      "cell_type": "code",
      "execution_count": null,
      "id": "5de06008-e463-4713-a938-4770102bf68d",
      "metadata": {
        "colab": {
          "base_uri": "https://localhost:8080/"
        },
        "id": "5de06008-e463-4713-a938-4770102bf68d",
        "outputId": "4b286884-7379-499f-cf80-f7c0f08bb7ff"
      },
      "outputs": [
        {
          "output_type": "stream",
          "name": "stdout",
          "text": [
            "Shape of x_train: (446, 40, 40, 1)\n",
            "Shape of the reshaped array: (446, 40, 40, 1)\n"
          ]
        }
      ],
      "source": [
        "print(\"Shape of x_train:\", x_train.shape)\n",
        "try:\n",
        "    reshaped_array = x_train.reshape(-1, 40, 40, 1)\n",
        "    print(\"Shape of the reshaped array:\", reshaped_array.shape)\n",
        "except ValueError as e:\n",
        "    print(\"Error:\", e)"
      ]
    },
    {
      "cell_type": "code",
      "execution_count": null,
      "id": "fe8b9384-fa80-431f-8f15-7c51b3e6df2a",
      "metadata": {
        "colab": {
          "base_uri": "https://localhost:8080/"
        },
        "id": "fe8b9384-fa80-431f-8f15-7c51b3e6df2a",
        "outputId": "940282a6-d017-4ee1-da8f-ca81c7f82c7e"
      },
      "outputs": [
        {
          "output_type": "execute_result",
          "data": {
            "text/plain": [
              "(1, 40, 40, 1)"
            ]
          },
          "metadata": {},
          "execution_count": 19
        }
      ],
      "source": [
        "x_tmp = x_train[0]\n",
        "x_tmp=x_tmp.reshape(1,40,40,1)\n",
        "x_tmp = np.array(x_tmp)\n",
        "x_tmp.shape"
      ]
    },
    {
      "cell_type": "code",
      "execution_count": null,
      "id": "f1ca994e-ae00-4797-83c2-b40592b7ab19",
      "metadata": {
        "colab": {
          "base_uri": "https://localhost:8080/"
        },
        "id": "f1ca994e-ae00-4797-83c2-b40592b7ab19",
        "outputId": "f635e1c0-6e5b-4aad-9317-2f27bb5808d7"
      },
      "outputs": [
        {
          "output_type": "execute_result",
          "data": {
            "text/plain": [
              "(10,)"
            ]
          },
          "metadata": {},
          "execution_count": 20
        }
      ],
      "source": [
        "np.transpose(y_debug).shape"
      ]
    },
    {
      "cell_type": "code",
      "execution_count": null,
      "id": "97165030-6dbb-4295-8374-afbc3d82c4cd",
      "metadata": {
        "id": "97165030-6dbb-4295-8374-afbc3d82c4cd"
      },
      "outputs": [],
      "source": [
        "# I will use this for debuggin on the ESP32\n",
        "x_debug = (train_df.values)[0:10]\n",
        "csv_x_debug = 'csv_x.csv'\n",
        "csv_y_debug = 'csv_y.csv'\n",
        "y_db2 = np.array(y_debug).reshape(1,-1)\n",
        "# Write data to the CSV file\n",
        "np.savetxt(csv_x_debug, x_debug, delimiter=',', fmt='%s')\n",
        "np.savetxt(csv_y_debug, y_db2, delimiter=',', fmt='%s')"
      ]
    },
    {
      "cell_type": "code",
      "execution_count": null,
      "id": "b65ab5df-04ef-44f6-ba11-92b1d9cc45dc",
      "metadata": {
        "id": "b65ab5df-04ef-44f6-ba11-92b1d9cc45dc"
      },
      "outputs": [],
      "source": [
        "# Normalize the data\n",
        "x_train = (x_train  / 127.5) - 1.0\n",
        "x_test = (x_test/127.5)-1.0# - 128 # / 255"
      ]
    },
    {
      "cell_type": "code",
      "execution_count": null,
      "id": "4655aa58-6368-49af-ad14-7b657b121bd9",
      "metadata": {
        "colab": {
          "base_uri": "https://localhost:8080/"
        },
        "id": "4655aa58-6368-49af-ad14-7b657b121bd9",
        "outputId": "98ee641b-b93e-4d5f-f338-65d6318d5c57"
      },
      "outputs": [
        {
          "output_type": "stream",
          "name": "stdout",
          "text": [
            "(446, 40, 40, 1)\n",
            "713600\n"
          ]
        }
      ],
      "source": [
        "print(x_train.shape)\n",
        "print(x_train.size)"
      ]
    },
    {
      "cell_type": "code",
      "execution_count": null,
      "id": "3e2acdee-05b7-430d-9385-b7909513a1e6",
      "metadata": {
        "colab": {
          "base_uri": "https://localhost:8080/"
        },
        "id": "3e2acdee-05b7-430d-9385-b7909513a1e6",
        "outputId": "77d5df2f-6908-441d-c95a-6bd5da423008"
      },
      "outputs": [
        {
          "output_type": "stream",
          "name": "stdout",
          "text": [
            "(112, 40, 40, 1)\n",
            "179200\n"
          ]
        }
      ],
      "source": [
        "print(x_test.shape)\n",
        "print(x_test.size)"
      ]
    },
    {
      "cell_type": "code",
      "execution_count": null,
      "id": "963d8b1a-a50e-408a-820b-c9304dc171d4",
      "metadata": {
        "id": "963d8b1a-a50e-408a-820b-c9304dc171d4"
      },
      "outputs": [],
      "source": [
        "x_train = x_train.reshape(-1, 40, 40, 1)\n",
        "x_test = x_test.reshape(-1, 40, 40, 1)"
      ]
    },
    {
      "cell_type": "code",
      "execution_count": null,
      "id": "0d22c7ee-436e-4523-83d2-65444ab14e0a",
      "metadata": {
        "colab": {
          "base_uri": "https://localhost:8080/"
        },
        "id": "0d22c7ee-436e-4523-83d2-65444ab14e0a",
        "outputId": "56fb1a3c-f094-4212-b403-a7a3e9ee0ec1"
      },
      "outputs": [
        {
          "output_type": "execute_result",
          "data": {
            "text/plain": [
              "(446, 40, 40, 1)"
            ]
          },
          "metadata": {},
          "execution_count": 26
        }
      ],
      "source": [
        "x_train.shape"
      ]
    },
    {
      "cell_type": "code",
      "execution_count": null,
      "id": "a7cd525e-454d-4c94-930d-7a2426d94f6d",
      "metadata": {
        "colab": {
          "base_uri": "https://localhost:8080/",
          "height": 372
        },
        "id": "a7cd525e-454d-4c94-930d-7a2426d94f6d",
        "outputId": "104df199-e27b-4068-d3a4-ffd0ed0e337a"
      },
      "outputs": [
        {
          "output_type": "display_data",
          "data": {
            "text/plain": [
              "<Figure size 1000x1000 with 10 Axes>"
            ],
            "image/png": "[encoded data removed]"
          },
          "metadata": {}
        }
      ],
      "source": [
        "import matplotlib.pyplot as plt\n",
        "f, ax = plt.subplots(2,5)\n",
        "f.set_size_inches(10, 10)\n",
        "k = 0\n",
        "for i in range(2):\n",
        "    for j in range(5):\n",
        "        ax[i,j].imshow(x_train[k].reshape(40, 40) , cmap = \"gray\")\n",
        "        k += 1\n",
        "    plt.tight_layout()"
      ]
    },
    {
      "cell_type": "code",
      "execution_count": null,
      "id": "29827d65-9928-40a3-aefb-6345386ed614",
      "metadata": {
        "colab": {
          "base_uri": "https://localhost:8080/"
        },
        "id": "29827d65-9928-40a3-aefb-6345386ed614",
        "outputId": "4f6bac92-9e15-4fe7-c5c6-569261e362c5"
      },
      "outputs": [
        {
          "output_type": "execute_result",
          "data": {
            "text/plain": [
              "(446, 40, 40, 1)"
            ]
          },
          "metadata": {},
          "execution_count": 27
        }
      ],
      "source": [
        "x_train.shape"
      ]
    },
    {
      "cell_type": "code",
      "execution_count": null,
      "id": "999a0277-653e-4f9d-b817-d68e8f3f7a57",
      "metadata": {
        "colab": {
          "base_uri": "https://localhost:8080/"
        },
        "id": "999a0277-653e-4f9d-b817-d68e8f3f7a57",
        "outputId": "2a5509a5-cc01-43bd-a691-92521433f532"
      },
      "outputs": [
        {
          "output_type": "execute_result",
          "data": {
            "text/plain": [
              "(446, 5)"
            ]
          },
          "metadata": {},
          "execution_count": 28
        }
      ],
      "source": [
        "y_train.shape"
      ]
    },
    {
      "cell_type": "code",
      "execution_count": null,
      "id": "1f518d8f-881d-4814-94f9-e32552542ad4",
      "metadata": {
        "id": "1f518d8f-881d-4814-94f9-e32552542ad4"
      },
      "outputs": [],
      "source": [
        "# Define your model\n",
        "model = Sequential([\n",
        "    Conv2D(65, kernel_size=(3, 3), activation='relu', input_shape=(40, 40, 1)),\n",
        "    MaxPooling2D(pool_size=(2, 2)),\n",
        "    Conv2D(40, kernel_size=(3, 3), activation='relu'),\n",
        "    Dropout(0.25),\n",
        "    MaxPooling2D(pool_size=(2, 2)),\n",
        "    Conv2D(25, kernel_size=(3, 3), activation='relu'),\n",
        "    MaxPooling2D(pool_size=(2, 2)),\n",
        "    Flatten(),\n",
        "    Dense(256, activation='relu'),\n",
        "    Dropout(0.5),\n",
        "    Dense(5, activation='softmax')  # for 5 classes\n",
        "])"
      ]
    },
    {
      "cell_type": "code",
      "execution_count": null,
      "id": "34bbc2e8-abf3-4d37-bc74-f4cffd4291f1",
      "metadata": {
        "id": "34bbc2e8-abf3-4d37-bc74-f4cffd4291f1"
      },
      "outputs": [],
      "source": [
        "# Compile the model\n",
        "model.compile(optimizer=Adam(), loss='categorical_crossentropy', metrics=['accuracy'])\n"
      ]
    },
    {
      "cell_type": "code",
      "execution_count": null,
      "id": "a0f1e491-1191-4d42-9ec1-e1d948af575e",
      "metadata": {
        "colab": {
          "base_uri": "https://localhost:8080/"
        },
        "id": "a0f1e491-1191-4d42-9ec1-e1d948af575e",
        "outputId": "1e653cdf-8e12-450a-dcc3-49e2cc667c8a"
      },
      "outputs": [
        {
          "output_type": "stream",
          "name": "stdout",
          "text": [
            "Model: \"sequential\"\n",
            "_________________________________________________________________\n",
            " Layer (type)                Output Shape              Param #   \n",
            "=================================================================\n",
            " conv2d (Conv2D)             (None, 38, 38, 65)        650       \n",
            "                                                                 \n",
            " max_pooling2d (MaxPooling2  (None, 19, 19, 65)        0         \n",
            " D)                                                              \n",
            "                                                                 \n",
            " conv2d_1 (Conv2D)           (None, 17, 17, 40)        23440     \n",
            "                                                                 \n",
            " dropout (Dropout)           (None, 17, 17, 40)        0         \n",
            "                                                                 \n",
            " max_pooling2d_1 (MaxPoolin  (None, 8, 8, 40)          0         \n",
            " g2D)                                                            \n",
            "                                                                 \n",
            " conv2d_2 (Conv2D)           (None, 6, 6, 25)          9025      \n",
            "                                                                 \n",
            " max_pooling2d_2 (MaxPoolin  (None, 3, 3, 25)          0         \n",
            " g2D)                                                            \n",
            "                                                                 \n",
            " flatten (Flatten)           (None, 225)               0         \n",
            "                                                                 \n",
            " dense (Dense)               (None, 256)               57856     \n",
            "                                                                 \n",
            " dropout_1 (Dropout)         (None, 256)               0         \n",
            "                                                                 \n",
            " dense_1 (Dense)             (None, 5)                 1285      \n",
            "                                                                 \n",
            "=================================================================\n",
            "Total params: 92256 (360.38 KB)\n",
            "Trainable params: 92256 (360.38 KB)\n",
            "Non-trainable params: 0 (0.00 Byte)\n",
            "_________________________________________________________________\n",
            "None\n"
          ]
        }
      ],
      "source": [
        "# Print model summary\n",
        "print(model.summary())"
      ]
    },
    {
      "cell_type": "code",
      "execution_count": null,
      "id": "4d8f8fe3-b47b-4ecd-84fb-4e50e32e27fe",
      "metadata": {
        "colab": {
          "base_uri": "https://localhost:8080/"
        },
        "id": "4d8f8fe3-b47b-4ecd-84fb-4e50e32e27fe",
        "outputId": "2a753aa0-ef9c-46e9-fac2-bb0908fc3e09"
      },
      "outputs": [
        {
          "output_type": "execute_result",
          "data": {
            "text/plain": [
              "(446, 5)"
            ]
          },
          "metadata": {},
          "execution_count": 32
        }
      ],
      "source": [
        "y_train.shape"
      ]
    },
    {
      "cell_type": "code",
      "execution_count": null,
      "id": "f7f1751d-e867-4514-904d-3f03001fae76",
      "metadata": {
        "id": "f7f1751d-e867-4514-904d-3f03001fae76"
      },
      "outputs": [],
      "source": [
        "# Initialize ImageDataGenerator\n",
        "datagen = ImageDataGenerator(\n",
        "    featurewise_center=False,\n",
        "    samplewise_center=False,\n",
        "    featurewise_std_normalization=False,\n",
        "    samplewise_std_normalization=False,\n",
        "    zca_whitening=False,\n",
        "    rotation_range=10,\n",
        "    zoom_range=0.1,\n",
        "    width_shift_range=0.1,\n",
        "    height_shift_range=0.1,\n",
        "    horizontal_flip=False,\n",
        "    vertical_flip=False\n",
        ")"
      ]
    },
    {
      "cell_type": "code",
      "execution_count": null,
      "id": "e709486b-1e6a-4c86-a0ac-5cf9c1c019ee",
      "metadata": {
        "id": "e709486b-1e6a-4c86-a0ac-5cf9c1c019ee"
      },
      "outputs": [],
      "source": [
        "learning_rate_reduction = ReduceLROnPlateau(monitor='val_accuracy',\n",
        "                                            patience=2,\n",
        "                                            verbose=1,\n",
        "                                            factor=0.5,\n",
        "                                            min_lr=0.00001)"
      ]
    },
    {
      "cell_type": "code",
      "execution_count": null,
      "id": "19336efe-3953-432f-8059-6f5699ef1175",
      "metadata": {
        "colab": {
          "base_uri": "https://localhost:8080/"
        },
        "id": "19336efe-3953-432f-8059-6f5699ef1175",
        "outputId": "6410a8b7-b171-4745-adea-bfb614b0806e"
      },
      "outputs": [
        {
          "output_type": "stream",
          "name": "stdout",
          "text": [
            "Epoch 1/20\n",
            "3/3 [==============================] - 3s 511ms/step - loss: 1.5540 - accuracy: 0.3610 - val_loss: 1.4442 - val_accuracy: 0.7232 - lr: 0.0010\n",
            "Epoch 2/20\n",
            "3/3 [==============================] - 2s 439ms/step - loss: 1.3108 - accuracy: 0.5269 - val_loss: 1.1221 - val_accuracy: 0.8393 - lr: 0.0010\n",
            "Epoch 3/20\n",
            "3/3 [==============================] - 2s 443ms/step - loss: 0.9662 - accuracy: 0.7422 - val_loss: 0.6888 - val_accuracy: 0.9018 - lr: 0.0010\n",
            "Epoch 4/20\n",
            "3/3 [==============================] - 2s 609ms/step - loss: 0.6221 - accuracy: 0.8206 - val_loss: 0.3453 - val_accuracy: 0.9732 - lr: 0.0010\n",
            "Epoch 5/20\n",
            "3/3 [==============================] - 3s 849ms/step - loss: 0.4427 - accuracy: 0.8543 - val_loss: 0.2096 - val_accuracy: 0.9643 - lr: 0.0010\n",
            "Epoch 6/20\n",
            "4/3 [==================================] - ETA: 0s - loss: 0.3444 - accuracy: 0.8789\n",
            "Epoch 6: ReduceLROnPlateau reducing learning rate to 0.0005000000237487257.\n",
            "3/3 [==============================] - 2s 632ms/step - loss: 0.3444 - accuracy: 0.8789 - val_loss: 0.1435 - val_accuracy: 0.9286 - lr: 0.0010\n",
            "Epoch 7/20\n",
            "3/3 [==============================] - 2s 410ms/step - loss: 0.2607 - accuracy: 0.9215 - val_loss: 0.1059 - val_accuracy: 0.9821 - lr: 5.0000e-04\n",
            "Epoch 8/20\n",
            "3/3 [==============================] - 1s 486ms/step - loss: 0.2817 - accuracy: 0.9238 - val_loss: 0.1058 - val_accuracy: 0.9821 - lr: 5.0000e-04\n",
            "Epoch 9/20\n",
            "4/3 [==================================] - ETA: 0s - loss: 0.2242 - accuracy: 0.9327\n",
            "Epoch 9: ReduceLROnPlateau reducing learning rate to 0.0002500000118743628.\n",
            "3/3 [==============================] - 1s 384ms/step - loss: 0.2242 - accuracy: 0.9327 - val_loss: 0.0782 - val_accuracy: 0.9821 - lr: 5.0000e-04\n",
            "Epoch 10/20\n",
            "3/3 [==============================] - 2s 438ms/step - loss: 0.1980 - accuracy: 0.9238 - val_loss: 0.0671 - val_accuracy: 0.9821 - lr: 2.5000e-04\n",
            "Epoch 11/20\n",
            "3/3 [==============================] - 2s 437ms/step - loss: 0.2365 - accuracy: 0.9372 - val_loss: 0.0597 - val_accuracy: 0.9911 - lr: 2.5000e-04\n",
            "Epoch 12/20\n",
            "3/3 [==============================] - 2s 423ms/step - loss: 0.1790 - accuracy: 0.9529 - val_loss: 0.0561 - val_accuracy: 0.9821 - lr: 2.5000e-04\n",
            "Epoch 13/20\n",
            "4/3 [==================================] - ETA: 0s - loss: 0.1834 - accuracy: 0.9327\n",
            "Epoch 13: ReduceLROnPlateau reducing learning rate to 0.0001250000059371814.\n",
            "3/3 [==============================] - 2s 720ms/step - loss: 0.1834 - accuracy: 0.9327 - val_loss: 0.0568 - val_accuracy: 0.9821 - lr: 2.5000e-04\n",
            "Epoch 14/20\n",
            "3/3 [==============================] - 3s 672ms/step - loss: 0.2184 - accuracy: 0.9350 - val_loss: 0.0582 - val_accuracy: 0.9821 - lr: 1.2500e-04\n",
            "Epoch 15/20\n",
            "4/3 [==================================] - ETA: 0s - loss: 0.1947 - accuracy: 0.9484\n",
            "Epoch 15: ReduceLROnPlateau reducing learning rate to 6.25000029685907e-05.\n",
            "3/3 [==============================] - 2s 408ms/step - loss: 0.1947 - accuracy: 0.9484 - val_loss: 0.0573 - val_accuracy: 0.9821 - lr: 1.2500e-04\n",
            "Epoch 16/20\n",
            "3/3 [==============================] - 1s 395ms/step - loss: 0.1389 - accuracy: 0.9619 - val_loss: 0.0544 - val_accuracy: 0.9821 - lr: 6.2500e-05\n",
            "Epoch 17/20\n",
            "4/3 [==================================] - ETA: 0s - loss: 0.2101 - accuracy: 0.9372\n",
            "Epoch 17: ReduceLROnPlateau reducing learning rate to 3.125000148429535e-05.\n",
            "3/3 [==============================] - 1s 482ms/step - loss: 0.2101 - accuracy: 0.9372 - val_loss: 0.0521 - val_accuracy: 0.9821 - lr: 6.2500e-05\n",
            "Epoch 18/20\n",
            "3/3 [==============================] - 1s 402ms/step - loss: 0.1616 - accuracy: 0.9529 - val_loss: 0.0512 - val_accuracy: 0.9821 - lr: 3.1250e-05\n",
            "Epoch 19/20\n",
            "4/3 [==================================] - ETA: 0s - loss: 0.1410 - accuracy: 0.9574\n",
            "Epoch 19: ReduceLROnPlateau reducing learning rate to 1.5625000742147677e-05.\n",
            "3/3 [==============================] - 2s 516ms/step - loss: 0.1410 - accuracy: 0.9574 - val_loss: 0.0501 - val_accuracy: 0.9821 - lr: 3.1250e-05\n",
            "Epoch 20/20\n",
            "3/3 [==============================] - 2s 432ms/step - loss: 0.1639 - accuracy: 0.9395 - val_loss: 0.0495 - val_accuracy: 0.9821 - lr: 1.5625e-05\n"
          ]
        }
      ],
      "source": [
        "history = model.fit(datagen.flow(x_train, y_train, batch_size=128),\n",
        "                    steps_per_epoch=len(x_train) / 128,\n",
        "                    epochs=20,\n",
        "                    validation_data=(x_test, y_test),\n",
        "                    callbacks=[learning_rate_reduction])"
      ]
    },
    {
      "cell_type": "code",
      "execution_count": null,
      "id": "5150012d-8862-447f-b7ea-407334e5f9e7",
      "metadata": {
        "colab": {
          "base_uri": "https://localhost:8080/"
        },
        "id": "5150012d-8862-447f-b7ea-407334e5f9e7",
        "outputId": "063b6df1-5086-4f6e-e982-e30b50f2ab18"
      },
      "outputs": [
        {
          "output_type": "stream",
          "name": "stdout",
          "text": [
            "4/4 [==============================] - 0s 20ms/step - loss: 0.0495 - accuracy: 0.9821\n",
            "Accuracy of the model is - 98.21%\n"
          ]
        }
      ],
      "source": [
        "# Evaluate the model\n",
        "accuracy = model.evaluate(x_test, y_test)[1]\n",
        "print(\"Accuracy of the model is - {:.2f}%\".format(accuracy * 100))"
      ]
    },
    {
      "cell_type": "code",
      "execution_count": null,
      "id": "9ac625aa-f072-4a76-a632-3e3b0d54910a",
      "metadata": {
        "colab": {
          "base_uri": "https://localhost:8080/",
          "height": 414
        },
        "id": "9ac625aa-f072-4a76-a632-3e3b0d54910a",
        "outputId": "a1b84586-56dc-4f37-fc7f-8c6f973d985b"
      },
      "outputs": [
        {
          "output_type": "display_data",
          "data": {
            "text/plain": [
              "<Figure size 1600x900 with 2 Axes>"
            ],
            "image/png": "[encoded data removed]"
          },
          "metadata": {}
        }
      ],
      "source": [
        "epochs = [i for i in range(20)]\n",
        "fig , ax = plt.subplots(1,2)\n",
        "train_acc = history.history['accuracy']\n",
        "train_loss = history.history['loss']\n",
        "val_acc = history.history['val_accuracy']\n",
        "val_loss = history.history['val_loss']\n",
        "fig.set_size_inches(16,9)\n",
        "\n",
        "ax[0].plot(epochs , train_acc , 'go-' , label = 'Training Accuracy')\n",
        "ax[0].plot(epochs , val_acc , 'ro-' , label = 'Testing Accuracy')\n",
        "ax[0].set_title('Training & Validation Accuracy')\n",
        "ax[0].legend()\n",
        "ax[0].set_xlabel(\"Epochs\")\n",
        "ax[0].set_ylabel(\"Accuracy\")\n",
        "\n",
        "ax[1].plot(epochs , train_loss , 'g-o' , label = 'Training Loss')\n",
        "ax[1].plot(epochs , val_loss , 'r-o' , label = 'Testing Loss')\n",
        "ax[1].set_title('Testing Accuracy & Loss')\n",
        "ax[1].legend()\n",
        "ax[1].set_xlabel(\"Epochs\")\n",
        "ax[1].set_ylabel(\"Loss\")\n",
        "plt.show()"
      ]
    },
    {
      "cell_type": "code",
      "execution_count": null,
      "id": "a3b9ab36-0dfa-43f2-8fa9-d5612c789e80",
      "metadata": {
        "colab": {
          "base_uri": "https://localhost:8080/"
        },
        "id": "a3b9ab36-0dfa-43f2-8fa9-d5612c789e80",
        "outputId": "8f76fc71-3a81-40f7-cf5d-f48b25ce0d30"
      },
      "outputs": [
        {
          "output_type": "stream",
          "name": "stdout",
          "text": [
            "4/4 [==============================] - 0s 32ms/step\n"
          ]
        },
        {
          "output_type": "execute_result",
          "data": {
            "text/plain": [
              "array([0, 3, 0, 2, 1])"
            ]
          },
          "metadata": {},
          "execution_count": 38
        }
      ],
      "source": [
        "preds = model.predict(x_test)\n",
        "predictions = np.argmax(preds, axis=1)\n",
        "for i in range(len(predictions)):\n",
        "    if(predictions[i] >= 9):\n",
        "        predictions[i] += 1\n",
        "predictions[:5]"
      ]
    },
    {
      "cell_type": "code",
      "execution_count": null,
      "id": "804ae0d9-9783-432b-8548-87952cfecbec",
      "metadata": {
        "colab": {
          "base_uri": "https://localhost:8080/"
        },
        "id": "804ae0d9-9783-432b-8548-87952cfecbec",
        "outputId": "780c6b92-f359-479f-8c7d-0caffe787ea3"
      },
      "outputs": [
        {
          "output_type": "stream",
          "name": "stderr",
          "text": [
            "/usr/local/lib/python3.10/dist-packages/keras/src/engine/training.py:3103: UserWarning: You are saving your model as an HDF5 file via `model.save()`. This file format is considered legacy. We recommend using instead the native Keras format, e.g. `model.save('my_model.keras')`.\n",
            "  saving_api.save_model(\n"
          ]
        }
      ],
      "source": [
        "# Save the model\n",
        "model.save('sign_language_model.h5')"
      ]
    },
    {
      "cell_type": "code",
      "execution_count": null,
      "id": "815e34e8-c36b-4ebb-915d-1b9ccae58ae4",
      "metadata": {
        "colab": {
          "base_uri": "https://localhost:8080/"
        },
        "id": "815e34e8-c36b-4ebb-915d-1b9ccae58ae4",
        "outputId": "726384f1-59cc-4e1c-9193-474aeb1f188b"
      },
      "outputs": [
        {
          "output_type": "stream",
          "name": "stdout",
          "text": [
            "(112, 40, 40, 1)\n"
          ]
        }
      ],
      "source": [
        "import tensorflow.compat.v1 as tf\n",
        "# x_test_flat=tf.cast(tf.squeeze(x_test, axis=-1), tf.float32) / 255.0\n",
        "x_test_flat=tf.cast(x_test, tf.float32)# / 255.0\n",
        "print(x_test_flat.shape)\n",
        "xtest_ds = tf.data.Dataset.from_tensor_slices((x_test_flat)).batch(1)"
      ]
    },
    {
      "cell_type": "code",
      "execution_count": null,
      "id": "a5eacdee-95fa-4cda-920a-09344fe6ec5f",
      "metadata": {
        "colab": {
          "base_uri": "https://localhost:8080/"
        },
        "id": "a5eacdee-95fa-4cda-920a-09344fe6ec5f",
        "outputId": "85ba2c9c-e461-419c-8dad-497177421b65"
      },
      "outputs": [
        {
          "output_type": "stream",
          "name": "stdout",
          "text": [
            "<_BatchDataset element_spec=TensorSpec(shape=(None, 40, 40, 1), dtype=tf.float32, name=None)>\n"
          ]
        }
      ],
      "source": [
        "print(xtest_ds)\n",
        "def representative_data_gen():\n",
        "    for input_value in xtest_ds.take(100):\n",
        "        yield [input_value]"
      ]
    },
    {
      "cell_type": "code",
      "execution_count": null,
      "id": "28c3ed9c-5364-4160-b890-f8ebf946f3a6",
      "metadata": {
        "id": "28c3ed9c-5364-4160-b890-f8ebf946f3a6"
      },
      "outputs": [],
      "source": [
        "def representative_dataset():\n",
        "    xtest_rd = test_df.values\n",
        "    for i in range(250):\n",
        "        nxt = (xtest_rd[i])\n",
        "        nxt = nxt.reshape(1,100,100,1)\n",
        "        nxt = np.array(nxt)\n",
        "        nxt = ((nxt/127.5)-1.0).astype(np.float32)\n",
        "        yield([nxt])"
      ]
    },
    {
      "cell_type": "code",
      "execution_count": null,
      "id": "b4307938-68c7-488e-8d13-a7ec828ea52c",
      "metadata": {
        "id": "b4307938-68c7-488e-8d13-a7ec828ea52c"
      },
      "outputs": [],
      "source": [
        "import tensorflow as tf\n",
        "\n",
        "# Create a TFLiteConverter object from the Keras model\n",
        "converter = tf.lite.TFLiteConverter.from_keras_model(model)\n",
        "\n",
        "# Define the representative dataset function if needed\n",
        "def representative_dataset():\n",
        "    for data in tf.data.Dataset.from_tensor_slices(x_train).batch(1).take(100):\n",
        "        yield [tf.dtypes.cast(data, tf.float32)]\n",
        "\n",
        "# Optionally, set the representative dataset for quantization\n",
        "converter.representative_dataset = representative_dataset\n",
        "\n",
        "# Convert the model to the TFLite format\n",
        "tflite_model = converter.convert()\n",
        "\n",
        "# Save the TFLite model to a file\n",
        "with open('model.tflite', 'wb') as f:\n",
        "    f.write(tflite_model)\n"
      ]
    },
    {
      "cell_type": "code",
      "source": [
        "def get_file_size(file_path):\n",
        "    size = os.path.getsize(file_path)\n",
        "    return size"
      ],
      "metadata": {
        "id": "QcrUr4Yy4F-R"
      },
      "id": "QcrUr4Yy4F-R",
      "execution_count": null,
      "outputs": []
    },
    {
      "cell_type": "code",
      "source": [
        "def convert_bytes(size, unit=None):\n",
        "    if unit == \"KB\":\n",
        "        return print('File size: ' + str(round(size / 1024, 3)) + ' Kilobytes')\n",
        "    elif unit == \"MB\":\n",
        "        return print('File size: ' + str(round(size / (1024 * 1024), 3)) + ' Megabytes')\n",
        "    else:\n",
        "        return print('File size: ' + str(size) + ' bytes')"
      ],
      "metadata": {
        "id": "P6VBhDM-4Fse"
      },
      "id": "P6VBhDM-4Fse",
      "execution_count": null,
      "outputs": []
    },
    {
      "cell_type": "code",
      "source": [
        "TF_LITE_MODEL_FILE_NAME = \"ISL_lite.tflite\""
      ],
      "metadata": {
        "id": "e4-zz5pJ4UZQ"
      },
      "id": "e4-zz5pJ4UZQ",
      "execution_count": null,
      "outputs": []
    },
    {
      "cell_type": "code",
      "source": [
        "tf_lite_converter = tf.lite.TFLiteConverter.from_keras_model(model)\n",
        "tflite_model = tf_lite_converter.convert()"
      ],
      "metadata": {
        "id": "ooqjC20a4hh2"
      },
      "id": "ooqjC20a4hh2",
      "execution_count": null,
      "outputs": []
    },
    {
      "cell_type": "code",
      "source": [
        "tflite_model_name = TF_LITE_MODEL_FILE_NAME"
      ],
      "metadata": {
        "id": "JhLhKgbf4g9f"
      },
      "id": "JhLhKgbf4g9f",
      "execution_count": null,
      "outputs": []
    },
    {
      "cell_type": "code",
      "execution_count": null,
      "id": "3f08ee37-34bf-4007-8289-5eef7acd46a8",
      "metadata": {
        "colab": {
          "base_uri": "https://localhost:8080/"
        },
        "id": "3f08ee37-34bf-4007-8289-5eef7acd46a8",
        "outputId": "be8524e7-816d-4b38-d8d9-7e72f90d14c5"
      },
      "outputs": [
        {
          "output_type": "execute_result",
          "data": {
            "text/plain": [
              "373100"
            ]
          },
          "metadata": {},
          "execution_count": 49
        }
      ],
      "source": [
        "open(\"ISL_lite.tflite\", \"wb\").write(tflite_model)"
      ]
    },
    {
      "cell_type": "code",
      "source": [
        "convert_bytes(get_file_size(TF_LITE_MODEL_FILE_NAME), \"KB\")"
      ],
      "metadata": {
        "colab": {
          "base_uri": "https://localhost:8080/"
        },
        "id": "W9G0Rxfr4vzO",
        "outputId": "d8adbb2e-2587-42f8-9f60-a262fb495a5b"
      },
      "id": "W9G0Rxfr4vzO",
      "execution_count": null,
      "outputs": [
        {
          "output_type": "stream",
          "name": "stdout",
          "text": [
            "File size: 364.355 Kilobytes\n"
          ]
        }
      ]
    },
    {
      "cell_type": "code",
      "source": [
        "tflite_file_size = get_file_size(TF_LITE_MODEL_FILE_NAME)"
      ],
      "metadata": {
        "id": "T-MRfE7Z4vse"
      },
      "id": "T-MRfE7Z4vse",
      "execution_count": null,
      "outputs": []
    },
    {
      "cell_type": "code",
      "source": [
        "interpreter = tf.lite.Interpreter(model_path = TF_LITE_MODEL_FILE_NAME)\n",
        "input_details = interpreter.get_input_details()\n",
        "output_details = interpreter.get_output_details()\n",
        "print(\"Input Shape:\", input_details[0]['shape'])\n",
        "print(\"Input Type:\", input_details[0]['dtype'])\n",
        "print(\"Output Shape:\", output_details[0]['shape'])\n",
        "print(\"Output Type:\", output_details[0]['dtype'])"
      ],
      "metadata": {
        "colab": {
          "base_uri": "https://localhost:8080/"
        },
        "id": "oCVxZVkp4vmS",
        "outputId": "429fdecc-c1bc-4f06-8898-07bd0820ddab"
      },
      "id": "oCVxZVkp4vmS",
      "execution_count": null,
      "outputs": [
        {
          "output_type": "stream",
          "name": "stdout",
          "text": [
            "Input Shape: [ 1 40 40  1]\n",
            "Input Type: <class 'numpy.float32'>\n",
            "Output Shape: [1 5]\n",
            "Output Type: <class 'numpy.float32'>\n"
          ]
        }
      ]
    },
    {
      "cell_type": "code",
      "source": [
        "interpreter.resize_tensor_input(input_details[0]['index'], (10000, 40, 40, 3)) # Add a dimension for channels\n",
        "interpreter.allocate_tensors()\n",
        "input_details = interpreter.get_input_details()\n",
        "output_details = interpreter.get_output_details()\n",
        "print(\"Input Shape:\", input_details[0]['shape'])\n",
        "print(\"Input Type:\", input_details[0]['dtype'])\n",
        "print(\"Output Shape:\", output_details[0]['shape'])\n",
        "print(\"Output Type:\", output_details[0]['dtype'])"
      ],
      "metadata": {
        "colab": {
          "base_uri": "https://localhost:8080/"
        },
        "id": "1JoAk19O4ves",
        "outputId": "810831ec-af9e-4d5e-eddc-2c39f396a083"
      },
      "id": "1JoAk19O4ves",
      "execution_count": null,
      "outputs": [
        {
          "output_type": "stream",
          "name": "stdout",
          "text": [
            "Input Shape: [10000    40    40     3]\n",
            "Input Type: <class 'numpy.float32'>\n",
            "Output Shape: [10000     5]\n",
            "Output Type: <class 'numpy.float32'>\n"
          ]
        }
      ]
    },
    {
      "cell_type": "code",
      "source": [
        "x_test.dtype"
      ],
      "metadata": {
        "colab": {
          "base_uri": "https://localhost:8080/"
        },
        "id": "i9pHNgML5VdD",
        "outputId": "266a85e9-5834-485f-93de-041294628ef9"
      },
      "id": "i9pHNgML5VdD",
      "execution_count": null,
      "outputs": [
        {
          "output_type": "execute_result",
          "data": {
            "text/plain": [
              "dtype('float64')"
            ]
          },
          "metadata": {},
          "execution_count": 54
        }
      ]
    },
    {
      "cell_type": "code",
      "source": [
        "x_test_numpy = np.array(x_test, dtype=np.float32)"
      ],
      "metadata": {
        "id": "2oGl64Rr5Vah"
      },
      "id": "2oGl64Rr5Vah",
      "execution_count": null,
      "outputs": []
    },
    {
      "cell_type": "code",
      "source": [
        "x_test_numpy.dtype"
      ],
      "metadata": {
        "colab": {
          "base_uri": "https://localhost:8080/"
        },
        "id": "8mqUo8en5VYI",
        "outputId": "ff837c95-3e92-4d62-d593-ee39a9bd7f8e"
      },
      "id": "8mqUo8en5VYI",
      "execution_count": null,
      "outputs": [
        {
          "output_type": "execute_result",
          "data": {
            "text/plain": [
              "dtype('float32')"
            ]
          },
          "metadata": {},
          "execution_count": 56
        }
      ]
    },
    {
      "cell_type": "code",
      "execution_count": null,
      "id": "b6e0b9d1-63fb-4fce-82ef-51cd4c1dd845",
      "metadata": {
        "colab": {
          "base_uri": "https://localhost:8080/"
        },
        "id": "b6e0b9d1-63fb-4fce-82ef-51cd4c1dd845",
        "outputId": "39e46628-f061-43cf-d54f-2b8f459fc796"
      },
      "outputs": [
        {
          "output_type": "stream",
          "name": "stdout",
          "text": [
            "[ 1 40 40  1]\n",
            "[1 5]\n"
          ]
        }
      ],
      "source": [
        "tflite_model_path = \"ISL_lite.tflite\"\n",
        "\n",
        "# Load the TFLite model and allocate tensors.\n",
        "interpreter = tf.lite.Interpreter(model_path=tflite_model_path)\n",
        "interpreter.allocate_tensors()\n",
        "\n",
        "# Get input and output tensors.\n",
        "input_details = interpreter.get_input_details()\n",
        "output_details = interpreter.get_output_details()\n",
        "\n",
        "input_shape = input_details[0]['shape']\n",
        "output_shape = output_details[0]['shape']\n",
        "print(input_shape)\n",
        "print(output_shape)"
      ]
    },
    {
      "cell_type": "code",
      "execution_count": null,
      "id": "c268219b-af87-48a4-a2c5-1204d83df9b3",
      "metadata": {
        "id": "c268219b-af87-48a4-a2c5-1204d83df9b3"
      },
      "outputs": [],
      "source": [
        "nin = 600\n",
        "nstrt = 1500"
      ]
    },
    {
      "cell_type": "code",
      "execution_count": null,
      "id": "c7946731-1cd7-4d3d-bdd0-1bc861b8e85c",
      "metadata": {
        "colab": {
          "base_uri": "https://localhost:8080/"
        },
        "id": "c7946731-1cd7-4d3d-bdd0-1bc861b8e85c",
        "outputId": "44a583cb-5b70-4405-b306-52d7da8bf107"
      },
      "outputs": [
        {
          "output_type": "stream",
          "name": "stdout",
          "text": [
            "Input Shape: [600  40  40   1]\n",
            "Input Type: <class 'numpy.float32'>\n",
            "Output Shape: [600   5]\n",
            "Output Type: <class 'numpy.float32'>\n"
          ]
        }
      ],
      "source": [
        "interpreter.resize_tensor_input(input_details[0]['index'], (nin, 40, 40,1))\n",
        "interpreter.resize_tensor_input(output_details[0]['index'], (nin, 24))\n",
        "interpreter.allocate_tensors()\n",
        "input_details = interpreter.get_input_details()\n",
        "output_details = interpreter.get_output_details()\n",
        "print(\"Input Shape:\", input_details[0]['shape'])\n",
        "print(\"Input Type:\", input_details[0]['dtype'])\n",
        "print(\"Output Shape:\", output_details[0]['shape'])\n",
        "print(\"Output Type:\", output_details[0]['dtype'])"
      ]
    },
    {
      "cell_type": "code",
      "execution_count": null,
      "id": "91a12058-0540-4a9a-9519-62184bc84061",
      "metadata": {
        "colab": {
          "base_uri": "https://localhost:8080/"
        },
        "id": "91a12058-0540-4a9a-9519-62184bc84061",
        "outputId": "582669df-758b-4f88-a04d-9423ca19623c"
      },
      "outputs": [
        {
          "output_type": "stream",
          "name": "stdout",
          "text": [
            "Input Shape: (500, 40, 40, 1)\n",
            "Input Type: <class 'numpy.ndarray'>\n"
          ]
        }
      ],
      "source": [
        "import numpy as np\n",
        "\n",
        "# Create a placeholder for your input data. Replace this with your actual input data.\n",
        "input_data_float32 = np.random.rand(2000, 40, 40, 1).astype(np.float32) # Example: random data\n",
        "\n",
        "# Convert input data from float32 to int8 and reshape if necessary\n",
        "input_data_int8 = (input_data_float32[nstrt:(nstrt+nin), :, :, :] * 127.5).astype(np.int8)\n",
        "\n",
        "# Print the new shapes and types\n",
        "print(\"Input Shape:\", input_data_int8.shape)\n",
        "print(\"Input Type:\", type(input_data_int8))"
      ]
    },
    {
      "cell_type": "code",
      "source": [
        "x_test.shape"
      ],
      "metadata": {
        "colab": {
          "base_uri": "https://localhost:8080/"
        },
        "id": "6Q1oxZes1coI",
        "outputId": "517605c5-42aa-441e-993b-e4f92953b046"
      },
      "id": "6Q1oxZes1coI",
      "execution_count": null,
      "outputs": [
        {
          "output_type": "execute_result",
          "data": {
            "text/plain": [
              "(112, 40, 40, 1)"
            ]
          },
          "metadata": {},
          "execution_count": 61
        }
      ]
    },
    {
      "cell_type": "code",
      "source": [
        "nin = 32\n",
        "nstrt = 0"
      ],
      "metadata": {
        "id": "lx1d8JUj2JGX"
      },
      "id": "lx1d8JUj2JGX",
      "execution_count": null,
      "outputs": []
    },
    {
      "cell_type": "code",
      "source": [
        "# Get the actual number of samples in your test data\n",
        "num_samples = x_test_numpy.shape[0]\n",
        "\n",
        "# Resize the input tensor to match the number of samples in your test data\n",
        "interpreter.resize_tensor_input(input_details[0]['index'], (num_samples, 40, 40, 1))\n",
        "interpreter.allocate_tensors()\n",
        "\n",
        "# Now set the tensor with your data\n",
        "interpreter.set_tensor(input_details[0]['index'], x_test_numpy)\n",
        "interpreter.invoke()\n"
      ],
      "metadata": {
        "id": "hJ4Ztf3W-D5n"
      },
      "id": "hJ4Ztf3W-D5n",
      "execution_count": null,
      "outputs": []
    },
    {
      "cell_type": "code",
      "execution_count": null,
      "id": "7d3947a0-71e3-4dd5-8e65-9103dbdf2f58",
      "metadata": {
        "colab": {
          "base_uri": "https://localhost:8080/"
        },
        "id": "7d3947a0-71e3-4dd5-8e65-9103dbdf2f58",
        "outputId": "51a902ea-32ed-40aa-9f44-4848d81b0b4d"
      },
      "outputs": [
        {
          "output_type": "stream",
          "name": "stdout",
          "text": [
            "0.006926193833351135\n",
            "Prediction results shape: (112, 5)\n"
          ]
        }
      ],
      "source": [
        "from time import time\n",
        "\n",
        "# Scale the images and convert to float32\n",
        "test_imgs_numpy = np.array(x_test[nstrt:(nstrt+nin), :, :, :] * 127.5, dtype=np.float32)\n",
        "\n",
        "# Set the input tensor with the float32 data\n",
        "t1 = time()\n",
        "interpreter.set_tensor(input_details[0]['index'], x_test_numpy)  # Now the data type matches\n",
        "interpreter.invoke()\n",
        "tflite_model_predictions = interpreter.get_tensor(output_details[0]['index'])\n",
        "print((time()-t1)/nin)\n",
        "print(\"Prediction results shape:\", tflite_model_predictions.shape)\n",
        "prediction_classes = np.argmax(tflite_model_predictions, axis=1)"
      ]
    },
    {
      "cell_type": "code",
      "execution_count": null,
      "id": "99b7c4a8-c585-4184-a891-6a47d6caf285",
      "metadata": {
        "colab": {
          "base_uri": "https://localhost:8080/"
        },
        "id": "99b7c4a8-c585-4184-a891-6a47d6caf285",
        "outputId": "bfb11def-4a08-429c-aa8b-e1cfef024a89"
      },
      "outputs": [
        {
          "output_type": "stream",
          "name": "stdout",
          "text": [
            "Test accuracy TFLITE model: 0.9821428571428571\n"
          ]
        }
      ],
      "source": [
        "from sklearn.metrics import accuracy_score\n",
        "\n",
        "# Calculate accuracy using prediction_classes and y_test\n",
        "# Use the entire y_test array instead of slicing it\n",
        "acc = accuracy_score(prediction_classes, np.argmax(y_test, axis=1))\n",
        "\n",
        "# Print the test accuracy\n",
        "print('Test accuracy TFLITE model:', acc)"
      ]
    },
    {
      "cell_type": "code",
      "execution_count": null,
      "id": "7f081756-59ea-4cc5-a5ab-2ad549896160",
      "metadata": {
        "id": "7f081756-59ea-4cc5-a5ab-2ad549896160"
      },
      "outputs": [],
      "source": [
        "TF_LITE_MODEL_FLOAT_16_FILE_NAME = \"tf_lite_float_16_model.tflite\""
      ]
    },
    {
      "cell_type": "code",
      "source": [
        "tf_lite_converter = tf.lite.TFLiteConverter.from_keras_model(model)\n",
        "tf_lite_converter.optimizations = [tf.lite.Optimize.DEFAULT]\n",
        "tf_lite_converter.target_spec.supported_types = [tf.float16]\n",
        "tflite_model = tf_lite_converter.convert()"
      ],
      "metadata": {
        "id": "ltGAIFQDAPjY"
      },
      "id": "ltGAIFQDAPjY",
      "execution_count": null,
      "outputs": []
    },
    {
      "cell_type": "code",
      "source": [
        "tflite_model_name = TF_LITE_MODEL_FLOAT_16_FILE_NAME\n",
        "open(tflite_model_name, \"wb\").write(tflite_model)"
      ],
      "metadata": {
        "colab": {
          "base_uri": "https://localhost:8080/"
        },
        "id": "noa5o1ZFAQWm",
        "outputId": "9656ddba-f0f8-4cc6-b7aa-7a2b1e25d9d3"
      },
      "id": "noa5o1ZFAQWm",
      "execution_count": null,
      "outputs": [
        {
          "output_type": "execute_result",
          "data": {
            "text/plain": [
              "190000"
            ]
          },
          "metadata": {},
          "execution_count": 73
        }
      ]
    },
    {
      "cell_type": "code",
      "source": [
        "convert_bytes(get_file_size(TF_LITE_MODEL_FLOAT_16_FILE_NAME), \"KB\")"
      ],
      "metadata": {
        "colab": {
          "base_uri": "https://localhost:8080/"
        },
        "id": "x9VJ2XA_AQY5",
        "outputId": "b0fd6db6-c9e9-4c89-b47d-e33896ba2826"
      },
      "id": "x9VJ2XA_AQY5",
      "execution_count": null,
      "outputs": [
        {
          "output_type": "stream",
          "name": "stdout",
          "text": [
            "File size: 185.547 Kilobytes\n"
          ]
        }
      ]
    },
    {
      "cell_type": "code",
      "source": [
        "tflite_float_16_file_size = get_file_size(TF_LITE_MODEL_FLOAT_16_FILE_NAME)"
      ],
      "metadata": {
        "id": "If7lrfvkAQbO"
      },
      "id": "If7lrfvkAQbO",
      "execution_count": null,
      "outputs": []
    },
    {
      "cell_type": "code",
      "source": [
        "TF_LITE_SIZE_QUANT_MODEL_FILE_NAME = \"tf_lite_quant_model.tflite\""
      ],
      "metadata": {
        "id": "C35rLxyvAQdc"
      },
      "id": "C35rLxyvAQdc",
      "execution_count": null,
      "outputs": []
    },
    {
      "cell_type": "code",
      "source": [
        "tf_lite_converter = tf.lite.TFLiteConverter.from_keras_model(model)\n",
        "tf_lite_converter.optimizations = [tf.lite.Optimize.OPTIMIZE_FOR_SIZE]\n",
        "tflite_model = tf_lite_converter.convert()"
      ],
      "metadata": {
        "colab": {
          "base_uri": "https://localhost:8080/"
        },
        "id": "1SmU5EF7AQft",
        "outputId": "cfe55858-e0c7-4674-9aad-c737daa45e85"
      },
      "id": "1SmU5EF7AQft",
      "execution_count": null,
      "outputs": [
        {
          "output_type": "stream",
          "name": "stderr",
          "text": [
            "WARNING:absl:Optimization option OPTIMIZE_FOR_SIZE is deprecated, please use optimizations=[Optimize.DEFAULT] instead.\n",
            "WARNING:absl:Optimization option OPTIMIZE_FOR_SIZE is deprecated, please use optimizations=[Optimize.DEFAULT] instead.\n",
            "WARNING:absl:Optimization option OPTIMIZE_FOR_SIZE is deprecated, please use optimizations=[Optimize.DEFAULT] instead.\n"
          ]
        }
      ]
    },
    {
      "cell_type": "code",
      "source": [
        "tflite_model_name = TF_LITE_SIZE_QUANT_MODEL_FILE_NAME\n",
        "open(tflite_model_name, \"wb\").write(tflite_model)"
      ],
      "metadata": {
        "colab": {
          "base_uri": "https://localhost:8080/"
        },
        "id": "UKxERRd3AQh6",
        "outputId": "6c82a34b-5c52-45ee-cd78-53a38cb7834e"
      },
      "id": "UKxERRd3AQh6",
      "execution_count": null,
      "outputs": [
        {
          "output_type": "execute_result",
          "data": {
            "text/plain": [
              "100216"
            ]
          },
          "metadata": {},
          "execution_count": 78
        }
      ]
    },
    {
      "cell_type": "code",
      "source": [
        "convert_bytes(get_file_size(TF_LITE_SIZE_QUANT_MODEL_FILE_NAME), \"KB\")"
      ],
      "metadata": {
        "colab": {
          "base_uri": "https://localhost:8080/"
        },
        "id": "QDM0wLSuAQj5",
        "outputId": "51764979-9218-4117-c382-b94b8debd1dc"
      },
      "id": "QDM0wLSuAQj5",
      "execution_count": null,
      "outputs": [
        {
          "output_type": "stream",
          "name": "stdout",
          "text": [
            "File size: 97.867 Kilobytes\n"
          ]
        }
      ]
    },
    {
      "cell_type": "code",
      "source": [
        "tflite_float_quant_file_size = get_file_size(TF_LITE_SIZE_QUANT_MODEL_FILE_NAME)"
      ],
      "metadata": {
        "id": "GQ6XrJf6AQnU"
      },
      "id": "GQ6XrJf6AQnU",
      "execution_count": null,
      "outputs": []
    },
    {
      "cell_type": "code",
      "source": [
        "interpreter = tf.lite.Interpreter(model_path = TF_LITE_SIZE_QUANT_MODEL_FILE_NAME)\n",
        "input_details = interpreter.get_input_details()\n",
        "output_details = interpreter.get_output_details()\n",
        "print(\"Input Shape:\", input_details[0]['shape'])\n",
        "print(\"Input Type:\", input_details[0]['dtype'])\n",
        "print(\"Output Shape:\", output_details[0]['shape'])\n",
        "print(\"Output Type:\", output_details[0]['dtype'])"
      ],
      "metadata": {
        "colab": {
          "base_uri": "https://localhost:8080/"
        },
        "id": "7Mp3QJTEA3ei",
        "outputId": "8168503a-aa6b-463b-893a-0f05f5f781da"
      },
      "id": "7Mp3QJTEA3ei",
      "execution_count": null,
      "outputs": [
        {
          "output_type": "stream",
          "name": "stdout",
          "text": [
            "Input Shape: [ 1 40 40  1]\n",
            "Input Type: <class 'numpy.float32'>\n",
            "Output Shape: [1 5]\n",
            "Output Type: <class 'numpy.float32'>\n"
          ]
        }
      ]
    },
    {
      "cell_type": "code",
      "source": [
        "# Load the TFLite model and allocate tensors.\n",
        "interpreter = tf.lite.Interpreter(model_path=TF_LITE_SIZE_QUANT_MODEL_FILE_NAME)\n",
        "interpreter.allocate_tensors()\n",
        "\n",
        "# Get input and output tensors.\n",
        "input_details = interpreter.get_input_details()\n",
        "output_details = interpreter.get_output_details()\n",
        "\n",
        "# Read the image file\n",
        "image_path = \"/content/drive/MyDrive/Project/Indian Sign Language/data/d/D10.jpg\"\n",
        "image_data = tf.io.read_file(image_path)\n",
        "image = tf.image.decode_jpeg(image_data, channels=1)\n",
        "\n",
        "# Resize and normalize the image\n",
        "image = tf.image.resize(image, [40, 40])\n",
        "image = tf.cast(image, tf.float32) / 127.5 - 1.0\n",
        "\n",
        "# Add a batch dimension\n",
        "image = tf.expand_dims(image, axis=0)\n",
        "\n",
        "# Set the input tensor\n",
        "interpreter.set_tensor(input_details[0]['index'], image)\n",
        "\n",
        "# Run the interpreter\n",
        "interpreter.invoke()\n",
        "\n",
        "# Get the output tensor\n",
        "output_data = interpreter.get_tensor(output_details[0]['index'])\n",
        "\n",
        "# Get the predicted class\n",
        "predicted_class = np.argmax(output_data)\n",
        "\n",
        "if predicted_class == 1:\n",
        "    predicted_gesture = \"A\"\n",
        "elif predicted_class == 2:\n",
        "    predicted_gesture = \"B\"\n",
        "elif predicted_class == 3:\n",
        "    predicted_gesture = \"C\"\n",
        "elif predicted_class == 4:\n",
        "    predicted_gesture = \"D\"\n",
        "elif predicted_class == 0:\n",
        "    predicted_gesture = \"Empty\"\n",
        "\n",
        "# Print the predicted class\n",
        "print(\"Predicted gesture:\", predicted_gesture)\n"
      ],
      "metadata": {
        "colab": {
          "base_uri": "https://localhost:8080/"
        },
        "id": "mVNFwGOtA3hD",
        "outputId": "c06a1822-63d1-4947-bb3f-4e3af4d972e5"
      },
      "id": "mVNFwGOtA3hD",
      "execution_count": null,
      "outputs": [
        {
          "output_type": "stream",
          "name": "stdout",
          "text": [
            "Predicted gesture: B\n"
          ]
        }
      ]
    },
    {
      "cell_type": "code",
      "source": [
        "# Correctly resize the input tensor, keeping the batch dimension\n",
        "interpreter.resize_tensor_input(input_details[0]['index'], (1, 40, 40, 1))  # Assuming 1 channel as before\n",
        "\n",
        "# Allocate tensors after resizing\n",
        "interpreter.allocate_tensors()\n",
        "\n",
        "# Get the input and output details\n",
        "input_details = interpreter.get_input_details()\n",
        "output_details = interpreter.get_output_details()\n",
        "print(\"Input Shape:\", input_details[0]['shape'])\n",
        "print(\"Input Type:\", input_details[0]['dtype'])\n",
        "print(\"Output Shape:\", output_details[0]['shape'])\n",
        "print(\"Output Type:\", output_details[0]['dtype'])"
      ],
      "metadata": {
        "colab": {
          "base_uri": "https://localhost:8080/"
        },
        "id": "Hd3u07KoA3jl",
        "outputId": "26fb1c06-19d6-490a-adf8-703686f54b4a"
      },
      "id": "Hd3u07KoA3jl",
      "execution_count": null,
      "outputs": [
        {
          "output_type": "stream",
          "name": "stdout",
          "text": [
            "Input Shape: [ 1 40 40  1]\n",
            "Input Type: <class 'numpy.float32'>\n",
            "Output Shape: [1 5]\n",
            "Output Type: <class 'numpy.float32'>\n"
          ]
        }
      ]
    },
    {
      "cell_type": "code",
      "source": [
        "x_test.dtype"
      ],
      "metadata": {
        "colab": {
          "base_uri": "https://localhost:8080/"
        },
        "id": "IO6NrVBTA3lx",
        "outputId": "885ce16f-2aa0-4da3-ab29-905af6182cbd"
      },
      "id": "IO6NrVBTA3lx",
      "execution_count": null,
      "outputs": [
        {
          "output_type": "execute_result",
          "data": {
            "text/plain": [
              "dtype('float64')"
            ]
          },
          "metadata": {},
          "execution_count": 85
        }
      ]
    },
    {
      "cell_type": "code",
      "source": [
        "test_imgs_numpy = np.array(x_test, dtype=np.float32)"
      ],
      "metadata": {
        "id": "46DvtvD2QRPI"
      },
      "id": "46DvtvD2QRPI",
      "execution_count": null,
      "outputs": []
    },
    {
      "cell_type": "code",
      "source": [
        "test_imgs_numpy.dtype"
      ],
      "metadata": {
        "colab": {
          "base_uri": "https://localhost:8080/"
        },
        "id": "EwOz0s_tHXlo",
        "outputId": "b7c129b1-d4cc-490b-fcb6-d809a4dd1a2a"
      },
      "id": "EwOz0s_tHXlo",
      "execution_count": null,
      "outputs": [
        {
          "output_type": "execute_result",
          "data": {
            "text/plain": [
              "dtype('float32')"
            ]
          },
          "metadata": {},
          "execution_count": 88
        }
      ]
    },
    {
      "cell_type": "code",
      "source": [
        "# Get the actual number of samples in your test data\n",
        "num_samples = test_imgs_numpy.shape[0]\n",
        "\n",
        "# Resize the input tensor to match the number of samples in your test data\n",
        "interpreter.resize_tensor_input(input_details[0]['index'], (num_samples, 40, 40, 1))\n",
        "interpreter.allocate_tensors()\n",
        "\n",
        "# Now set the tensor with your data\n",
        "interpreter.set_tensor(input_details[0]['index'], x_test_numpy)\n",
        "interpreter.invoke()\n"
      ],
      "metadata": {
        "id": "2_4peRtUJ1mX"
      },
      "id": "2_4peRtUJ1mX",
      "execution_count": null,
      "outputs": []
    },
    {
      "cell_type": "code",
      "source": [
        "tflite_model_predictions = interpreter.get_tensor(output_details[0]['index'])\n",
        "print(\"Prediction results shape:\", tflite_model_predictions.shape)\n",
        "prediction_classes = np.argmax(tflite_model_predictions, axis=1)"
      ],
      "metadata": {
        "colab": {
          "base_uri": "https://localhost:8080/"
        },
        "id": "19k8lujEA3oO",
        "outputId": "e3908a0b-81f8-4b92-dcf1-ffb254e1b163"
      },
      "id": "19k8lujEA3oO",
      "execution_count": null,
      "outputs": [
        {
          "output_type": "stream",
          "name": "stdout",
          "text": [
            "Prediction results shape: (112, 5)\n"
          ]
        }
      ]
    },
    {
      "cell_type": "code",
      "source": [
        "acc = accuracy_score(prediction_classes, np.argmax(y_test, axis=1))"
      ],
      "metadata": {
        "id": "JzR_txmxA3q4"
      },
      "id": "JzR_txmxA3q4",
      "execution_count": null,
      "outputs": []
    },
    {
      "cell_type": "code",
      "source": [
        "print('Test accuracy TFLITE Quantized model is {}%'.format(round(100*acc, 2)))"
      ],
      "metadata": {
        "colab": {
          "base_uri": "https://localhost:8080/"
        },
        "id": "ngqsNIS4A3tX",
        "outputId": "f01203bb-09ba-4be1-c7ba-39ded167e655"
      },
      "id": "ngqsNIS4A3tX",
      "execution_count": null,
      "outputs": [
        {
          "output_type": "stream",
          "name": "stdout",
          "text": [
            "Test accuracy TFLITE Quantized model is 98.21%\n"
          ]
        }
      ]
    },
    {
      "cell_type": "code",
      "source": [],
      "metadata": {
        "id": "BgMok_XTA3wz"
      },
      "id": "BgMok_XTA3wz",
      "execution_count": null,
      "outputs": []
    }
  ],
  "metadata": {
    "kernelspec": {
      "display_name": "Python 3 (ipykernel)",
      "language": "python",
      "name": "python3"
    },
    "language_info": {
      "codemirror_mode": {
        "name": "ipython",
        "version": 3
      },
      "file_extension": ".py",
      "mimetype": "text/x-python",
      "name": "python",
      "nbconvert_exporter": "python",
      "pygments_lexer": "ipython3",
      "version": "3.11.9"
    },
    "colab": {
      "provenance": []
    }
  },
  "nbformat": 4,
  "nbformat_minor": 5
}